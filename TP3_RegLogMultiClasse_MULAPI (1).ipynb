{
 "cells": [
  {
   "cell_type": "markdown",
   "metadata": {},
   "source": [
    "# TP3 sur la regression logistique multi-classe"
   ]
  },
  {
   "cell_type": "markdown",
   "metadata": {},
   "source": [
    "### Réalisé par : MULAPI TITA Ketsia"
   ]
  },
  {
   "cell_type": "markdown",
   "metadata": {},
   "source": [
    "Le but de ce TP est d’implementer un coût softmax, qui sert à étendre la régression logistique pour\n",
    "la classification multiclasse. Dans ce contexte, la modélisation de la probabilité d’appartenance à\n",
    "une classe est donnée par :"
   ]
  },
  {
   "cell_type": "code",
   "execution_count": 279,
   "metadata": {},
   "outputs": [],
   "source": [
    "import numpy as np\n",
    "from sklearn.datasets import load_digits\n",
    "from sklearn.model_selection import train_test_split\n",
    "from matplotlib import pyplot as plt"
   ]
  },
  {
   "cell_type": "markdown",
   "metadata": {},
   "source": [
    "où C est le nombre de classes, et wk est un vecteur de R^d. On appelle cette fonction, la fonction softmax."
   ]
  },
  {
   "cell_type": "markdown",
   "metadata": {},
   "source": [
    "$ p(y = λ_k|x_i) $ est modélisé par la focntion softam ci-dessus. "
   ]
  },
  {
   "cell_type": "markdown",
   "metadata": {},
   "source": [
    "Vous allez implémenter dans ce TP, un modèle linéaire multiclasse appris tel que :"
   ]
  },
  {
   "cell_type": "markdown",
   "metadata": {},
   "source": [
    "En considérant que yi,j représente la probabilité d’appartenance à une classe λj de l’exemple xi\n",
    ", la\n",
    "fonction de coût cross-entropy s’écrit :"
   ]
  },
  {
   "cell_type": "markdown",
   "metadata": {},
   "source": [
    "où yˆi,j = p(y = λk|xi) est modélisé par la fonction softmax ci-dessus. Vous allez implémenter dans ce TP, un modèle linéaire multiclasse appris tel que"
   ]
  },
  {
   "cell_type": "markdown",
   "metadata": {},
   "source": []
  },
  {
   "cell_type": "markdown",
   "metadata": {},
   "source": [
    "où W représente une matrice de taille d × C contenant l’ensemble des {w_k}\n",
    "\n",
    "> Commencez par charger les données relatives à un problème de reconnaissance de chiffres\n",
    "manuscrits :"
   ]
  },
  {
   "cell_type": "code",
   "execution_count": 280,
   "metadata": {},
   "outputs": [],
   "source": [
    "import numpy as np\n",
    "from sklearn.datasets import load_digits\n",
    "n_class = 10\n",
    "X,y = load_digits(n_class=n_class , return_X_y=True)"
   ]
  },
  {
   "cell_type": "code",
   "execution_count": 281,
   "metadata": {},
   "outputs": [
    {
     "data": {
      "text/plain": [
       "<matplotlib.image.AxesImage at 0x7fc25917a6d8>"
      ]
     },
     "execution_count": 281,
     "metadata": {},
     "output_type": "execute_result"
    },
    {
     "data": {
      "image/png": "[encoded data removed]",
      "text/plain": [
       "<Figure size 432x288 with 1 Axes>"
      ]
     },
     "metadata": {
      "needs_background": "light"
     },
     "output_type": "display_data"
    }
   ],
   "source": [
    "X_train, X_test, y_train, y_test = train_test_split(X, y, test_size=0.33, random_state=42)\n",
    "plt.imshow(X[4].reshape(8,8))"
   ]
  },
  {
   "cell_type": "markdown",
   "metadata": {},
   "source": [
    "Implémentez les fonctions permettant :\n",
    "    \n",
    "    ◦ de transformer les étiquettes des données en vecteurs de probabilités d’appartenance aux\n",
    "    classes, à l’aide d’un encodage one-hot 2\n",
    "    . Bien entendu, pour les données d’apprentissage,\n",
    "    ces probabilités sont soit égales à 1 (pour la classe à laquelle appartient la donnée), soit\n",
    "    égale à 0 (pour les autres classes).\n",
    "    \n",
    "    ◦ d’évaluer une fonction softmax étant donné un z = x\n",
    "    >w\n",
    "    \n",
    "    ◦ d’estimer la probabilité d’appartenance d’un ensemble de données étant donné W"
   ]
  },
  {
   "cell_type": "code",
   "execution_count": 282,
   "metadata": {},
   "outputs": [],
   "source": [
    "def oneHotEncodage(y, n_class):\n",
    "    '''\n",
    "        Cette fonction renvoie une matrice N,n_class qui\n",
    "        représente pour chaque exemple l'appartenance à une classe sur n_class total.\n",
    "        0 : n'appartient pas à la classe\n",
    "        1 : appartien à la classe\n",
    "        n : nombre d'exemples\n",
    "        y : les vérités terrains\n",
    "        n_class ::: le nombre de classes\n",
    "    '''\n",
    "    n = y.shape[0]\n",
    "    y_one = np.zeros((n,n_class))\n",
    "    for i in range(n):\n",
    "        y_one[i,y[i]]=1\n",
    "    return y_one"
   ]
  },
  {
   "cell_type": "code",
   "execution_count": 283,
   "metadata": {},
   "outputs": [],
   "source": [
    "def softmax(z):\n",
    "    ''' \n",
    "        cette fonction renvoie pour chaque exemples un ensemble de n_class \"probabilités\"\n",
    "        z ::: on sait que z = X^⁽T⁾@Wk un vecteur\n",
    "    '''\n",
    "    # computational trick for numerical stability\n",
    "    z -= np.max(z)\n",
    "    sm = (np.exp(z).T/ np.sum(np.exp(z),axis=1)).T\n",
    "    return sm"
   ]
  },
  {
   "cell_type": "code",
   "execution_count": 306,
   "metadata": {},
   "outputs": [],
   "source": [
    "def get_prob_pred(X, W):\n",
    "    '''\n",
    "        Cette fonction récupère les probabilités d'appartenance d'un exemple pour chaque classe et,\n",
    "        permet de récupérer l'argument (la classe) à la plus grande probabilité\n",
    "        X ::: ensemble de données d'e\n",
    "        W ::: la matrice de taille s x C qui contien tl'ensemble des {Wk} \n",
    "    '''\n",
    "    probs = softmax(X@W) # \n",
    "    preds = np.argmax(probs, axis=1)\n",
    "    print(\"probs : \",probs)\n",
    "    print(\"\\npreds : \",preds)\n",
    "    return probs, preds"
   ]
  },
  {
   "cell_type": "markdown",
   "metadata": {},
   "source": [
    "Implémentez maintenant une fonction qui calcule la fonction de coût et le gradient."
   ]
  },
  {
   "cell_type": "code",
   "execution_count": 285,
   "metadata": {},
   "outputs": [],
   "source": [
    "def get_loss_grad(W,X,y,lam ,n_class):\n",
    "    '''\n",
    "    Cette focntion renvoie une valeur loss et, \n",
    "    un gradient sous forme de matrice ayant la même taille que W\n",
    "    '''\n",
    "    # convert the integer class coding into a one-hot representation\n",
    "    y_mat = oneHotEncodage(y,n_class) \n",
    "    # compute raw class scores given our input and current weights\n",
    "    scores = X@W \n",
    "    # perform a softmax on these scores to get their probabilities\n",
    "    prob = softmax(scores)     \n",
    "    # insérer votre code ici\n",
    "    n = X.shape[0]\n",
    "    loss = (-1/n) * np.sum(y_mat * np.log(prob)) + (lam/2) * np.sum(W.T@W)\n",
    "    grad = (-1/n) * X.T @ (y_mat - prob) + lam * W # \n",
    "    return loss , grad"
   ]
  },
  {
   "cell_type": "markdown",
   "metadata": {},
   "source": [
    ". Implémentez une descente de gradient sans backtracking pour optimiser les paramètres W"
   ]
  },
  {
   "cell_type": "code",
   "execution_count": 355,
   "metadata": {},
   "outputs": [],
   "source": [
    "def steepest_descent_without_backtracking(X, y, n_class, methode, lam=1):\n",
    "    '''\n",
    "    Cette focntion implémente la méthode de descente de gradient\n",
    "    avec un pas fixe !\n",
    "    elle renvoi alors un vecteur de loss et, la matrice W\n",
    "    '''\n",
    "    W = np.zeros([X.shape[1],len(np.unique(y))]) # o au départ\n",
    "    pas = 0.01\n",
    "    losses = []\n",
    "    iter_max = 1000\n",
    "    for i in range(iter_max):\n",
    "        loss, grad = methode(W,X,y,lam,n_class)\n",
    "        losses.append(loss)\n",
    "        W = W - pas*grad\n",
    "    print(grad.shape)\n",
    "    print(loss)\n",
    "    print(W.shape)\n",
    "    return W, losses"
   ]
  },
  {
   "cell_type": "markdown",
   "metadata": {},
   "source": [
    "## Problème de classification des chiffres manuscits"
   ]
  },
  {
   "cell_type": "markdown",
   "metadata": {},
   "source": [
    "## Évaluez l’erreur en classification sur les données d’apprentissage après entrainement"
   ]
  },
  {
   "cell_type": "markdown",
   "metadata": {},
   "source": [
    "### Etape 1 : apprentisssage (entraînement de l'algorithme, recherche des paramètres W)"
   ]
  },
  {
   "cell_type": "code",
   "execution_count": 356,
   "metadata": {
    "scrolled": true
   },
   "outputs": [
    {
     "name": "stdout",
     "output_type": "stream",
     "text": [
      "(64, 10)\n",
      "0.27025718025443\n",
      "(64, 10)\n"
     ]
    }
   ],
   "source": [
    "W, losses_without_backtrack = steepest_descent_without_backtracking(X_train,y_train,n_class,get_loss_grad)"
   ]
  },
  {
   "cell_type": "markdown",
   "metadata": {},
   "source": [
    "### Etape 2 : On prédit ... ON obtient les probabilités et les predicitions"
   ]
  },
  {
   "cell_type": "code",
   "execution_count": 357,
   "metadata": {},
   "outputs": [
    {
     "name": "stdout",
     "output_type": "stream",
     "text": [
      "probs :  [[7.43108574e-03 6.37728182e-03 2.45532057e-03 ... 2.24247537e-03\n",
      "  1.53034033e-02 5.74827342e-03]\n",
      " [2.11082024e-02 3.54513871e-03 3.79963027e-03 ... 1.08462409e-02\n",
      "  1.78251579e-02 7.75982019e-01]\n",
      " [4.31581759e-04 2.08373195e-03 6.64007460e-03 ... 1.95010767e-03\n",
      "  1.75296048e-02 1.33591848e-02]\n",
      " ...\n",
      " [1.83170014e-02 2.84736986e-03 2.70287856e-04 ... 3.05911204e-03\n",
      "  4.14473026e-03 1.56023760e-04]\n",
      " [5.13595485e-03 1.97179495e-03 3.85293988e-03 ... 1.93908572e-03\n",
      "  4.18405884e-02 8.91737764e-01]\n",
      " [9.23748357e-01 3.61868969e-04 3.30557130e-02 ... 2.84150355e-03\n",
      "  1.03070041e-02 9.61864298e-03]]\n",
      "\n",
      "preds :  [6 9 3 7 2 2 5 2 5 2 1 9 4 0 4 2 3 7 8 8 4 3 9 7 5 6 3 5 6 3 4 9 1 4 4 6 9\n",
      " 4 7 6 6 9 1 3 6 1 3 0 6 5 5 1 9 5 6 0 9 0 0 1 0 4 5 2 4 5 7 0 7 5 9 9 5 4\n",
      " 7 0 4 5 5 9 9 0 2 3 8 0 6 4 4 9 1 2 8 3 5 2 9 0 4 4 4 3 5 3 1 3 5 9 4 2 7\n",
      " 7 4 4 1 9 2 7 8 7 2 6 9 4 0 7 2 7 5 8 7 5 7 9 0 6 6 4 2 8 0 9 4 6 9 9 6 9\n",
      " 0 3 5 6 6 0 6 4 3 9 3 8 7 2 9 0 4 5 8 6 5 7 9 8 4 2 1 3 7 7 2 2 3 9 8 0 3\n",
      " 2 2 5 6 9 9 4 1 5 4 2 3 6 4 8 5 9 5 7 1 9 4 8 1 5 4 4 9 6 1 8 6 0 4 5 2 7\n",
      " 1 6 4 5 6 0 3 2 3 6 7 1 9 1 4 7 6 5 1 5 5 1 0 2 8 8 9 5 7 6 2 2 2 3 4 8 8\n",
      " 3 6 0 9 7 7 0 1 0 4 5 1 5 3 6 0 4 1 0 0 3 6 5 9 7 3 5 5 9 9 8 5 3 3 2 0 5\n",
      " 8 3 4 0 2 4 6 4 3 4 5 0 5 2 1 3 1 4 1 1 7 0 1 5 2 1 2 8 7 0 6 4 8 8 5 1 8\n",
      " 4 5 8 7 9 8 6 0 6 2 0 7 9 8 9 5 2 7 7 9 8 7 4 3 8 3 5 6 0 0 3 0 5 0 0 4 1\n",
      " 2 8 4 5 9 6 3 1 8 8 4 2 3 8 9 8 8 5 0 6 3 3 7 1 6 4 1 2 1 1 6 4 7 4 8 3 4\n",
      " 0 5 1 9 4 5 7 6 3 7 0 5 9 7 5 9 7 4 2 2 9 0 7 5 8 3 6 3 9 6 9 5 0 1 5 5 8\n",
      " 3 3 6 2 6 5 4 2 0 8 7 3 7 0 2 2 3 5 8 7 3 6 5 9 9 2 5 6 3 0 7 1 1 9 6 1 1\n",
      " 0 0 2 9 8 9 9 3 7 7 1 3 5 4 6 8 2 1 1 8 7 6 9 2 0 4 4 8 8 7 9 3 1 7 1 3 5\n",
      " 1 7 0 0 2 2 6 9 4 8 9 0 6 7 7 9 5 4 7 0 7 6 8 7 1 4 6 2 8 7 5 9 0 3 9 6 6\n",
      " 1 9 1 2 9 8 9 7 7 8 5 5 9 7 7 6 8 9 3 5 7 9 5 9 2 1 1 2 2 4 8 7 5 8 8 9 4\n",
      " 9 0]\n"
     ]
    }
   ],
   "source": [
    "prob, pred = get_prob_pred(X_test,W)"
   ]
  },
  {
   "cell_type": "code",
   "execution_count": 358,
   "metadata": {},
   "outputs": [
    {
     "data": {
      "text/plain": [
       "array([6, 9, 3, 7, 2, 2, 5, 2, 5, 2, 1, 9, 4, 0, 4, 2, 3, 7, 8, 8, 4, 3,\n",
       "       9, 7, 5, 6, 3, 5, 6, 3, 4, 9, 1, 4, 4, 6, 9, 4, 7, 6, 6, 9, 1, 3,\n",
       "       6, 1, 3, 0, 6, 5, 5, 1, 9, 5, 6, 0, 9, 0, 0, 1, 0, 4, 5, 2, 4, 5,\n",
       "       7, 0, 7, 5, 9, 9, 5, 4, 7, 0, 4, 5, 5, 9, 9, 0, 2, 3, 8, 0, 6, 4,\n",
       "       4, 9, 1, 2, 8, 3, 5, 2, 9, 0, 4, 4, 4, 3, 5, 3, 1, 3, 5, 9, 4, 2,\n",
       "       7, 7, 4, 4, 1, 9, 2, 7, 8, 7, 2, 6, 9, 4, 0, 7, 2, 7, 5, 8, 7, 5,\n",
       "       7, 9, 0, 6, 6, 4, 2, 8, 0, 9, 4, 6, 9, 9, 6, 9, 0, 3, 5, 6, 6, 0,\n",
       "       6, 4, 3, 9, 3, 8, 7, 2, 9, 0, 4, 5, 8, 6, 5, 7, 9, 8, 4, 2, 1, 3,\n",
       "       7, 7, 2, 2, 3, 9, 8, 0, 3, 2, 2, 5, 6, 9, 9, 4, 1, 5, 4, 2, 3, 6,\n",
       "       4, 8, 5, 9, 5, 7, 1, 9, 4, 8, 1, 5, 4, 4, 9, 6, 1, 8, 6, 0, 4, 5,\n",
       "       2, 7, 1, 6, 4, 5, 6, 0, 3, 2, 3, 6, 7, 1, 9, 1, 4, 7, 6, 5, 1, 5,\n",
       "       5, 1, 0, 2, 8, 8, 9, 5, 7, 6, 2, 2, 2, 3, 4, 8, 8, 3, 6, 0, 9, 7,\n",
       "       7, 0, 1, 0, 4, 5, 1, 5, 3, 6, 0, 4, 1, 0, 0, 3, 6, 5, 9, 7, 3, 5,\n",
       "       5, 9, 9, 8, 5, 3, 3, 2, 0, 5, 8, 3, 4, 0, 2, 4, 6, 4, 3, 4, 5, 0,\n",
       "       5, 2, 1, 3, 1, 4, 1, 1, 7, 0, 1, 5, 2, 1, 2, 8, 7, 0, 6, 4, 8, 8,\n",
       "       5, 1, 8, 4, 5, 8, 7, 9, 8, 6, 0, 6, 2, 0, 7, 9, 8, 9, 5, 2, 7, 7,\n",
       "       9, 8, 7, 4, 3, 8, 3, 5, 6, 0, 0, 3, 0, 5, 0, 0, 4, 1, 2, 8, 4, 5,\n",
       "       9, 6, 3, 1, 8, 8, 4, 2, 3, 8, 9, 8, 8, 5, 0, 6, 3, 3, 7, 1, 6, 4,\n",
       "       1, 2, 1, 1, 6, 4, 7, 4, 8, 3, 4, 0, 5, 1, 9, 4, 5, 7, 6, 3, 7, 0,\n",
       "       5, 9, 7, 5, 9, 7, 4, 2, 2, 9, 0, 7, 5, 8, 3, 6, 3, 9, 6, 9, 5, 0,\n",
       "       1, 5, 5, 8, 3, 3, 6, 2, 6, 5, 4, 2, 0, 8, 7, 3, 7, 0, 2, 2, 3, 5,\n",
       "       8, 7, 3, 6, 5, 9, 9, 2, 5, 6, 3, 0, 7, 1, 1, 9, 6, 1, 1, 0, 0, 2,\n",
       "       9, 8, 9, 9, 3, 7, 7, 1, 3, 5, 4, 6, 8, 2, 1, 1, 8, 7, 6, 9, 2, 0,\n",
       "       4, 4, 8, 8, 7, 9, 3, 1, 7, 1, 3, 5, 1, 7, 0, 0, 2, 2, 6, 9, 4, 8,\n",
       "       9, 0, 6, 7, 7, 9, 5, 4, 7, 0, 7, 6, 8, 7, 1, 4, 6, 2, 8, 7, 5, 9,\n",
       "       0, 3, 9, 6, 6, 1, 9, 1, 2, 9, 8, 9, 7, 7, 8, 5, 5, 9, 7, 7, 6, 8,\n",
       "       9, 3, 5, 7, 9, 5, 9, 2, 1, 1, 2, 2, 4, 8, 7, 5, 8, 8, 9, 4, 9, 0])"
      ]
     },
     "execution_count": 358,
     "metadata": {},
     "output_type": "execute_result"
    }
   ],
   "source": [
    "pred"
   ]
  },
  {
   "cell_type": "markdown",
   "metadata": {},
   "source": [
    "### Etape 3 : On récupère les y_test sous la forme multiclasse"
   ]
  },
  {
   "cell_type": "code",
   "execution_count": 359,
   "metadata": {},
   "outputs": [],
   "source": [
    " y_one = oneHotEncodage(y_test,10)"
   ]
  },
  {
   "cell_type": "code",
   "execution_count": 360,
   "metadata": {},
   "outputs": [
    {
     "data": {
      "text/plain": [
       "array([[0., 0., 0., ..., 0., 0., 0.],\n",
       "       [0., 0., 0., ..., 0., 0., 1.],\n",
       "       [0., 0., 0., ..., 0., 0., 0.],\n",
       "       ...,\n",
       "       [0., 0., 0., ..., 0., 0., 0.],\n",
       "       [0., 0., 0., ..., 0., 0., 1.],\n",
       "       [1., 0., 0., ..., 0., 0., 0.]])"
      ]
     },
     "execution_count": 360,
     "metadata": {},
     "output_type": "execute_result"
    }
   ],
   "source": [
    "y_one"
   ]
  },
  {
   "cell_type": "markdown",
   "metadata": {},
   "source": [
    "On peut déjà voir que notre prediction est à peu près correcte car à 1 = 9 pour y_one et, 9 pour preds.\n",
    "\n",
    "pareille pour (n-1) et n"
   ]
  },
  {
   "cell_type": "markdown",
   "metadata": {},
   "source": [
    "on vérifie qu'on a bien 1 :"
   ]
  },
  {
   "cell_type": "code",
   "execution_count": 361,
   "metadata": {},
   "outputs": [
    {
     "data": {
      "text/plain": [
       "1.0"
      ]
     },
     "execution_count": 361,
     "metadata": {},
     "output_type": "execute_result"
    }
   ],
   "source": [
    "sum(y_one[0,:])"
   ]
  },
  {
   "cell_type": "markdown",
   "metadata": {},
   "source": [
    "### On évalue les performances de notre modèle : "
   ]
  },
  {
   "cell_type": "code",
   "execution_count": 362,
   "metadata": {},
   "outputs": [],
   "source": [
    "def eval_score(X, y, w, n_class):\n",
    "    '''\n",
    "    Cette fonction renvoi le taux d'erreur en classification et, \n",
    "    le taux de bonne classification.\n",
    "    elle attend :\n",
    "    X : le X à utiliser pour la prédiciton\n",
    "    y : la réalité\n",
    "    w : les paramètres du modèles après entraînement\n",
    "    n_class : le nombre de classe\n",
    "    '''\n",
    "    n = len(y)\n",
    "    prob, pred = get_prob_pred(X,w)\n",
    "    accuracy_score = sum(pred == y)/n\n",
    "    return 1-accuracy_score, accuracy_score, "
   ]
  },
  {
   "cell_type": "markdown",
   "metadata": {},
   "source": [
    "D'abord on vérifie avec les mêmes données utilisés pour l'entraînement, on sera content de voir que l'on s'est permit un minimum d'erreur et donc que l'on ne sur apprend pas."
   ]
  },
  {
   "cell_type": "code",
   "execution_count": 363,
   "metadata": {},
   "outputs": [
    {
     "name": "stdout",
     "output_type": "stream",
     "text": [
      "probs :  [[5.57713593e-04 8.71628026e-01 6.02530796e-04 ... 1.37384225e-03\n",
      "  2.81184420e-02 4.60222123e-02]\n",
      " [2.15031035e-04 8.35648338e-01 6.44560284e-02 ... 1.62789351e-02\n",
      "  4.75404402e-02 1.24644548e-03]\n",
      " [6.42719898e-03 1.80008621e-02 4.84755382e-02 ... 4.74092937e-02\n",
      "  8.06153851e-01 2.04954879e-02]\n",
      " ...\n",
      " [1.62130746e-03 7.60244660e-03 8.68765987e-01 ... 5.35399019e-02\n",
      "  2.73368334e-02 2.54314244e-03]\n",
      " [1.78476269e-02 5.61184310e-02 1.36148299e-02 ... 5.45031848e-01\n",
      "  5.81031630e-02 3.38014120e-02]\n",
      " [3.85294277e-03 7.43748462e-01 2.31409986e-02 ... 2.17099098e-02\n",
      "  9.88056483e-02 2.50423343e-03]]\n",
      "\n",
      "preds :  [1 1 8 ... 2 7 1]\n"
     ]
    }
   ],
   "source": [
    "tx_err_train, tx_train = eval_score(X_train, y_train, W,n_class)"
   ]
  },
  {
   "cell_type": "code",
   "execution_count": 364,
   "metadata": {},
   "outputs": [
    {
     "name": "stdout",
     "output_type": "stream",
     "text": [
      "Le taux d'erreur en apprentissage est :  0.029093931837073983  soit  2.9093931837073983 % et donc, le taux de bonne classification des données entraînés est : 0.970906068162926  soit :  97.0906068162926\n"
     ]
    }
   ],
   "source": [
    "print(\"Le taux d'erreur en apprentissage est : \",tx_err_train, \" soit \", tx_err_train*100,'% et donc, le taux de bonne classification des données entraînés est :',tx_train, \" soit : \",tx_train*100)"
   ]
  },
  {
   "cell_type": "code",
   "execution_count": 365,
   "metadata": {},
   "outputs": [
    {
     "name": "stdout",
     "output_type": "stream",
     "text": [
      "probs :  [[7.43108574e-03 6.37728182e-03 2.45532057e-03 ... 2.24247537e-03\n",
      "  1.53034033e-02 5.74827342e-03]\n",
      " [2.11082024e-02 3.54513871e-03 3.79963027e-03 ... 1.08462409e-02\n",
      "  1.78251579e-02 7.75982019e-01]\n",
      " [4.31581759e-04 2.08373195e-03 6.64007460e-03 ... 1.95010767e-03\n",
      "  1.75296048e-02 1.33591848e-02]\n",
      " ...\n",
      " [1.83170014e-02 2.84736986e-03 2.70287856e-04 ... 3.05911204e-03\n",
      "  4.14473026e-03 1.56023760e-04]\n",
      " [5.13595485e-03 1.97179495e-03 3.85293988e-03 ... 1.93908572e-03\n",
      "  4.18405884e-02 8.91737764e-01]\n",
      " [9.23748357e-01 3.61868969e-04 3.30557130e-02 ... 2.84150355e-03\n",
      "  1.03070041e-02 9.61864298e-03]]\n",
      "\n",
      "preds :  [6 9 3 7 2 2 5 2 5 2 1 9 4 0 4 2 3 7 8 8 4 3 9 7 5 6 3 5 6 3 4 9 1 4 4 6 9\n",
      " 4 7 6 6 9 1 3 6 1 3 0 6 5 5 1 9 5 6 0 9 0 0 1 0 4 5 2 4 5 7 0 7 5 9 9 5 4\n",
      " 7 0 4 5 5 9 9 0 2 3 8 0 6 4 4 9 1 2 8 3 5 2 9 0 4 4 4 3 5 3 1 3 5 9 4 2 7\n",
      " 7 4 4 1 9 2 7 8 7 2 6 9 4 0 7 2 7 5 8 7 5 7 9 0 6 6 4 2 8 0 9 4 6 9 9 6 9\n",
      " 0 3 5 6 6 0 6 4 3 9 3 8 7 2 9 0 4 5 8 6 5 7 9 8 4 2 1 3 7 7 2 2 3 9 8 0 3\n",
      " 2 2 5 6 9 9 4 1 5 4 2 3 6 4 8 5 9 5 7 1 9 4 8 1 5 4 4 9 6 1 8 6 0 4 5 2 7\n",
      " 1 6 4 5 6 0 3 2 3 6 7 1 9 1 4 7 6 5 1 5 5 1 0 2 8 8 9 5 7 6 2 2 2 3 4 8 8\n",
      " 3 6 0 9 7 7 0 1 0 4 5 1 5 3 6 0 4 1 0 0 3 6 5 9 7 3 5 5 9 9 8 5 3 3 2 0 5\n",
      " 8 3 4 0 2 4 6 4 3 4 5 0 5 2 1 3 1 4 1 1 7 0 1 5 2 1 2 8 7 0 6 4 8 8 5 1 8\n",
      " 4 5 8 7 9 8 6 0 6 2 0 7 9 8 9 5 2 7 7 9 8 7 4 3 8 3 5 6 0 0 3 0 5 0 0 4 1\n",
      " 2 8 4 5 9 6 3 1 8 8 4 2 3 8 9 8 8 5 0 6 3 3 7 1 6 4 1 2 1 1 6 4 7 4 8 3 4\n",
      " 0 5 1 9 4 5 7 6 3 7 0 5 9 7 5 9 7 4 2 2 9 0 7 5 8 3 6 3 9 6 9 5 0 1 5 5 8\n",
      " 3 3 6 2 6 5 4 2 0 8 7 3 7 0 2 2 3 5 8 7 3 6 5 9 9 2 5 6 3 0 7 1 1 9 6 1 1\n",
      " 0 0 2 9 8 9 9 3 7 7 1 3 5 4 6 8 2 1 1 8 7 6 9 2 0 4 4 8 8 7 9 3 1 7 1 3 5\n",
      " 1 7 0 0 2 2 6 9 4 8 9 0 6 7 7 9 5 4 7 0 7 6 8 7 1 4 6 2 8 7 5 9 0 3 9 6 6\n",
      " 1 9 1 2 9 8 9 7 7 8 5 5 9 7 7 6 8 9 3 5 7 9 5 9 2 1 1 2 2 4 8 7 5 8 8 9 4\n",
      " 9 0]\n"
     ]
    }
   ],
   "source": [
    "tx_err_test, tx_test = eval_score(X_test, y_test, W, n_class)"
   ]
  },
  {
   "cell_type": "markdown",
   "metadata": {},
   "source": [
    "Maintenant, on évalue convenablement notre modèle avec des données qu'il n'a jamais vu : X_test ici on sera content d'avoir une très bonne performance."
   ]
  },
  {
   "cell_type": "code",
   "execution_count": 366,
   "metadata": {},
   "outputs": [
    {
     "name": "stdout",
     "output_type": "stream",
     "text": [
      "Le taux d'erreur en apprentissage est :  0.045454545454545414  soit  4.545454545454541 % et donc, le taux de bonne classification des données entraînés est : 0.9545454545454546  soit :  95.45454545454545\n"
     ]
    }
   ],
   "source": [
    "print(\"Le taux d'erreur en apprentissage est : \",tx_err_test, \" soit \", tx_err_test*100,'% et donc, le taux de bonne classification des données entraînés est :',tx_test, \" soit : \",tx_test*100)"
   ]
  },
  {
   "cell_type": "markdown",
   "metadata": {},
   "source": [
    "## Affichez l’évolution de la fonction objective après chaque itération"
   ]
  },
  {
   "cell_type": "code",
   "execution_count": 367,
   "metadata": {},
   "outputs": [],
   "source": [
    "from matplotlib import pyplot as plt"
   ]
  },
  {
   "cell_type": "code",
   "execution_count": 368,
   "metadata": {},
   "outputs": [
    {
     "data": {
      "text/plain": [
       "[<matplotlib.lines.Line2D at 0x7fc2591bd128>]"
      ]
     },
     "execution_count": 368,
     "metadata": {},
     "output_type": "execute_result"
    },
    {
     "data": {
      "image/png": "[encoded data removed]",
      "text/plain": [
       "<Figure size 432x288 with 1 Axes>"
      ]
     },
     "metadata": {
      "needs_background": "light"
     },
     "output_type": "display_data"
    }
   ],
   "source": [
    "plt.plot(losses_without_backtrack)"
   ]
  },
  {
   "cell_type": "markdown",
   "metadata": {},
   "source": [
    "#### Constat :\n",
    "\n",
    "On remarque que plus on iter plus notre fonction de perte décroit de façon assez intérressante et donc, cela nous rassure que avec le pas fixe de 0.01 que l'on s'est fixé, l'algorithme de descente de gradient converge correctement ce qui explique les bons taux de performances obtenus."
   ]
  }
 ],
 "metadata": {
  "interpreter": {
   "hash": "6f415e978cbbcfe4ee76e0f0ae60463270fd6aaaf7ce8526631058b94c49e7ac"
  },
  "kernelspec": {
   "display_name": "conda_python3",
   "language": "python",
   "name": "conda_python3"
  },
  "language_info": {
   "codemirror_mode": {
    "name": "ipython",
    "version": 3
   },
   "file_extension": ".py",
   "mimetype": "text/x-python",
   "name": "python",
   "nbconvert_exporter": "python",
   "pygments_lexer": "ipython3",
   "version": "3.6.13"
  }
 },
 "nbformat": 4,
 "nbformat_minor": 2
}
