{
 "cells": [
  {
   "cell_type": "markdown",
   "metadata": {},
   "source": [
    "# TP1 Apprentissage Automatique 2\n",
    "\n",
    "## Régression linéaire"
   ]
  },
  {
   "cell_type": "markdown",
   "metadata": {},
   "source": [
    "### réalisé par : MULAPI TITA Ketsia"
   ]
  },
  {
   "cell_type": "markdown",
   "metadata": {},
   "source": [
    "______________________________________"
   ]
  },
  {
   "cell_type": "markdown",
   "metadata": {},
   "source": [
    "#### Quid ? \n",
    "\n",
    "Le but de ce TP est d’implémenter et de tester une méthode de régression linéaire sur des problèmes réels. \n",
    "Pour cela, nous utiliserons les librairies python suivantes :\n",
    "\n",
    "1) Scikit-learn \n",
    "2) Numpy 2 et, \n",
    "3) Matplotlib.pyplot\n",
    "\n",
    "Ainsi que tout autre librairie que nous jugerons utiles."
   ]
  },
  {
   "cell_type": "code",
   "execution_count": 34,
   "metadata": {},
   "outputs": [],
   "source": [
    "from sklearn.datasets import load_boston\n",
    "from numpy.linalg import inv\n",
    "import numpy as np\n",
    "import matplotlib.pyplot as plt\n",
    "%matplotlib inline\n",
    "plt.close(\"all\")"
   ]
  },
  {
   "cell_type": "markdown",
   "metadata": {},
   "source": [
    "## Partie 1 : Description des données"
   ]
  },
  {
   "cell_type": "markdown",
   "metadata": {},
   "source": [
    "Nous allons travailler sur deux jeux de données :\n",
    "\n",
    "◦ Boston Housing\n",
    "\n",
    "◦ Diabetes\n",
    "\n",
    "tous deux disponibles directement dans la librairie Scikit-learn, sous sklearn.datasets. \n",
    "Pour chaque exercice de ce TP, il nous est demandé de tester ces deux jeux de données."
   ]
  },
  {
   "cell_type": "code",
   "execution_count": 2,
   "metadata": {},
   "outputs": [],
   "source": [
    "from sklearn import datasets as datas"
   ]
  },
  {
   "cell_type": "code",
   "execution_count": 3,
   "metadata": {},
   "outputs": [],
   "source": [
    "def lever_une_exception(dataset):\n",
    "    '''\n",
    "    Cette fonction : permet des lever des exceptions selon que \n",
    "    l'on ne manipule pas les bons datasets.\n",
    "    '''\n",
    "    raise Exception(\"le dataset \"+dataset+\" n\\'existe pas\")"
   ]
  },
  {
   "cell_type": "code",
   "execution_count": 4,
   "metadata": {},
   "outputs": [],
   "source": [
    "def get_Data(dataset):\n",
    "    '''\n",
    "    Cette fonction : renvoie les données X, y selon que l'on souhaite \n",
    "    avoir un dataset <Housing Boston> ou, <diabetes>, \n",
    "    dans le cas contraire il ne retourne rien (une erreur).\n",
    "    - dataset : le dataset qu'on veut (boston, diabetes)\n",
    "    - Valeur de retour : (X, y)\n",
    "    - X : Caractéristiques (variables ou dimensions)\n",
    "    - y : Réponses associées\n",
    "    '''\n",
    "    if dataset=='boston' :\n",
    "        return datas.load_boston(return_X_y=True)\n",
    "    elif dataset=='diabetes':\n",
    "        return datas.load_diabetes(return_X_y=True)\n",
    "    return lever_une_exception(dataset)"
   ]
  },
  {
   "cell_type": "markdown",
   "metadata": {},
   "source": [
    "Dans un script python, chargez les deux jeux de données. Si vous ne savez pas comment faire,\n",
    "vous pouvez vous référer à la documentation de Scikit-learn 4"
   ]
  },
  {
   "cell_type": "code",
   "execution_count": 5,
   "metadata": {},
   "outputs": [],
   "source": [
    "# récupération des données, b pour boston et d pour diabetes\n",
    "Xb, yb = get_Data('boston')\n",
    "Xd, yd = get_Data('diabetes')"
   ]
  },
  {
   "cell_type": "code",
   "execution_count": 6,
   "metadata": {},
   "outputs": [
    {
     "ename": "Exception",
     "evalue": "le dataset other n'existe pas",
     "output_type": "error",
     "traceback": [
      "\u001b[0;31m---------------------------------------------------------------------------\u001b[0m",
      "\u001b[0;31mException\u001b[0m                                 Traceback (most recent call last)",
      "\u001b[0;32m/tmp/ipykernel_5573/1559362077.py\u001b[0m in \u001b[0;36m<module>\u001b[0;34m\u001b[0m\n\u001b[1;32m      1\u001b[0m \u001b[0;31m# Et si on récupère autre chose ? :\u001b[0m\u001b[0;34m\u001b[0m\u001b[0;34m\u001b[0m\u001b[0m\n\u001b[0;32m----> 2\u001b[0;31m \u001b[0mXo\u001b[0m\u001b[0;34m,\u001b[0m \u001b[0myo\u001b[0m \u001b[0;34m=\u001b[0m \u001b[0mget_Data\u001b[0m\u001b[0;34m(\u001b[0m\u001b[0;34m'other'\u001b[0m\u001b[0;34m)\u001b[0m\u001b[0;34m\u001b[0m\u001b[0;34m\u001b[0m\u001b[0m\n\u001b[0m",
      "\u001b[0;32m/tmp/ipykernel_5573/4115766405.py\u001b[0m in \u001b[0;36mget_Data\u001b[0;34m(dataset)\u001b[0m\n\u001b[1;32m     13\u001b[0m     \u001b[0;32melif\u001b[0m \u001b[0mdataset\u001b[0m\u001b[0;34m==\u001b[0m\u001b[0;34m'diabetes'\u001b[0m\u001b[0;34m:\u001b[0m\u001b[0;34m\u001b[0m\u001b[0;34m\u001b[0m\u001b[0m\n\u001b[1;32m     14\u001b[0m         \u001b[0;32mreturn\u001b[0m \u001b[0mdatas\u001b[0m\u001b[0;34m.\u001b[0m\u001b[0mload_diabetes\u001b[0m\u001b[0;34m(\u001b[0m\u001b[0mreturn_X_y\u001b[0m\u001b[0;34m=\u001b[0m\u001b[0;32mTrue\u001b[0m\u001b[0;34m)\u001b[0m\u001b[0;34m\u001b[0m\u001b[0;34m\u001b[0m\u001b[0m\n\u001b[0;32m---> 15\u001b[0;31m     \u001b[0;32mreturn\u001b[0m \u001b[0mlever_une_exception\u001b[0m\u001b[0;34m(\u001b[0m\u001b[0mdataset\u001b[0m\u001b[0;34m)\u001b[0m\u001b[0;34m\u001b[0m\u001b[0;34m\u001b[0m\u001b[0m\n\u001b[0m",
      "\u001b[0;32m/tmp/ipykernel_5573/3004453541.py\u001b[0m in \u001b[0;36mlever_une_exception\u001b[0;34m(dataset)\u001b[0m\n\u001b[1;32m      4\u001b[0m     \u001b[0ml\u001b[0m\u001b[0;31m'\u001b[0m\u001b[0mon\u001b[0m \u001b[0mne\u001b[0m \u001b[0mmanipule\u001b[0m \u001b[0mpas\u001b[0m \u001b[0mles\u001b[0m \u001b[0mbons\u001b[0m \u001b[0mdatasets\u001b[0m\u001b[0;34m.\u001b[0m\u001b[0;34m\u001b[0m\u001b[0;34m\u001b[0m\u001b[0m\n\u001b[1;32m      5\u001b[0m     '''\n\u001b[0;32m----> 6\u001b[0;31m     \u001b[0;32mraise\u001b[0m \u001b[0mException\u001b[0m\u001b[0;34m(\u001b[0m\u001b[0;34m\"le dataset \"\u001b[0m\u001b[0;34m+\u001b[0m\u001b[0mdataset\u001b[0m\u001b[0;34m+\u001b[0m\u001b[0;34m\" n\\'existe pas\"\u001b[0m\u001b[0;34m)\u001b[0m\u001b[0;34m\u001b[0m\u001b[0;34m\u001b[0m\u001b[0m\n\u001b[0m",
      "\u001b[0;31mException\u001b[0m: le dataset other n'existe pas"
     ]
    }
   ],
   "source": [
    "# Et si on récupère autre chose ? :\n",
    "Xo, yo = get_Data('other')"
   ]
  },
  {
   "cell_type": "markdown",
   "metadata": {},
   "source": [
    "Analysez le contenu des deux jeux que vous avez chargez et donnez une description des données et de la problématique sous-jacente"
   ]
  },
  {
   "cell_type": "code",
   "execution_count": 11,
   "metadata": {},
   "outputs": [],
   "source": [
    "import pandas as pd"
   ]
  },
  {
   "cell_type": "code",
   "execution_count": 12,
   "metadata": {},
   "outputs": [],
   "source": [
    "def get_description(X, y, dataset):\n",
    "    '''\n",
    "    Cette focntion : renvoie la dimension d'un jeu en X et en y,\n",
    "    ainsi qu'une description statistiques et, les différentes corrélation entre les X\n",
    "    '''\n",
    "    if dataset=='load_boston' :\n",
    "        labels = datas.load_boston()\n",
    "    elif dataset=='load_diabetes' :\n",
    "        labels = datas.load_diabetes()\n",
    "    else :\n",
    "        lever_une_exception(dataset)\n",
    "    labels = labels.feature_names\n",
    "    df_x = pd.DataFrame(X, columns=labels)\n",
    "    df_y = pd.DataFrame(y)\n",
    "    return df_x.shape, df_x.describe(), df_x.corr(), df_y.shape, df_y.describe()\n",
    "    "
   ]
  },
  {
   "cell_type": "markdown",
   "metadata": {},
   "source": [
    "- Analyse Boston"
   ]
  },
  {
   "cell_type": "code",
   "execution_count": 13,
   "metadata": {},
   "outputs": [],
   "source": [
    "dim_xB, desc_xB, xB_corr, dim_yB, desc_yB = get_description(Xb, yb, 'load_boston')"
   ]
  },
  {
   "cell_type": "code",
   "execution_count": 14,
   "metadata": {},
   "outputs": [
    {
     "data": {
      "text/plain": [
       "(506, 13)"
      ]
     },
     "execution_count": 14,
     "metadata": {},
     "output_type": "execute_result"
    }
   ],
   "source": [
    "# dimensions de X\n",
    "dim_xB"
   ]
  },
  {
   "cell_type": "code",
   "execution_count": 15,
   "metadata": {},
   "outputs": [
    {
     "data": {
      "text/html": [
       "<div>\n",
       "<style scoped>\n",
       "    .dataframe tbody tr th:only-of-type {\n",
       "        vertical-align: middle;\n",
       "    }\n",
       "\n",
       "    .dataframe tbody tr th {\n",
       "        vertical-align: top;\n",
       "    }\n",
       "\n",
       "    .dataframe thead th {\n",
       "        text-align: right;\n",
       "    }\n",
       "</style>\n",
       "<table border=\"1\" class=\"dataframe\">\n",
       "  <thead>\n",
       "    <tr style=\"text-align: right;\">\n",
       "      <th></th>\n",
       "      <th>CRIM</th>\n",
       "      <th>ZN</th>\n",
       "      <th>INDUS</th>\n",
       "      <th>CHAS</th>\n",
       "      <th>NOX</th>\n",
       "      <th>RM</th>\n",
       "      <th>AGE</th>\n",
       "      <th>DIS</th>\n",
       "      <th>RAD</th>\n",
       "      <th>TAX</th>\n",
       "      <th>PTRATIO</th>\n",
       "      <th>B</th>\n",
       "      <th>LSTAT</th>\n",
       "    </tr>\n",
       "  </thead>\n",
       "  <tbody>\n",
       "    <tr>\n",
       "      <th>count</th>\n",
       "      <td>506.000000</td>\n",
       "      <td>506.000000</td>\n",
       "      <td>506.000000</td>\n",
       "      <td>506.000000</td>\n",
       "      <td>506.000000</td>\n",
       "      <td>506.000000</td>\n",
       "      <td>506.000000</td>\n",
       "      <td>506.000000</td>\n",
       "      <td>506.000000</td>\n",
       "      <td>506.000000</td>\n",
       "      <td>506.000000</td>\n",
       "      <td>506.000000</td>\n",
       "      <td>506.000000</td>\n",
       "    </tr>\n",
       "    <tr>\n",
       "      <th>mean</th>\n",
       "      <td>3.613524</td>\n",
       "      <td>11.363636</td>\n",
       "      <td>11.136779</td>\n",
       "      <td>0.069170</td>\n",
       "      <td>0.554695</td>\n",
       "      <td>6.284634</td>\n",
       "      <td>68.574901</td>\n",
       "      <td>3.795043</td>\n",
       "      <td>9.549407</td>\n",
       "      <td>408.237154</td>\n",
       "      <td>18.455534</td>\n",
       "      <td>356.674032</td>\n",
       "      <td>12.653063</td>\n",
       "    </tr>\n",
       "    <tr>\n",
       "      <th>std</th>\n",
       "      <td>8.601545</td>\n",
       "      <td>23.322453</td>\n",
       "      <td>6.860353</td>\n",
       "      <td>0.253994</td>\n",
       "      <td>0.115878</td>\n",
       "      <td>0.702617</td>\n",
       "      <td>28.148861</td>\n",
       "      <td>2.105710</td>\n",
       "      <td>8.707259</td>\n",
       "      <td>168.537116</td>\n",
       "      <td>2.164946</td>\n",
       "      <td>91.294864</td>\n",
       "      <td>7.141062</td>\n",
       "    </tr>\n",
       "    <tr>\n",
       "      <th>min</th>\n",
       "      <td>0.006320</td>\n",
       "      <td>0.000000</td>\n",
       "      <td>0.460000</td>\n",
       "      <td>0.000000</td>\n",
       "      <td>0.385000</td>\n",
       "      <td>3.561000</td>\n",
       "      <td>2.900000</td>\n",
       "      <td>1.129600</td>\n",
       "      <td>1.000000</td>\n",
       "      <td>187.000000</td>\n",
       "      <td>12.600000</td>\n",
       "      <td>0.320000</td>\n",
       "      <td>1.730000</td>\n",
       "    </tr>\n",
       "    <tr>\n",
       "      <th>25%</th>\n",
       "      <td>0.082045</td>\n",
       "      <td>0.000000</td>\n",
       "      <td>5.190000</td>\n",
       "      <td>0.000000</td>\n",
       "      <td>0.449000</td>\n",
       "      <td>5.885500</td>\n",
       "      <td>45.025000</td>\n",
       "      <td>2.100175</td>\n",
       "      <td>4.000000</td>\n",
       "      <td>279.000000</td>\n",
       "      <td>17.400000</td>\n",
       "      <td>375.377500</td>\n",
       "      <td>6.950000</td>\n",
       "    </tr>\n",
       "    <tr>\n",
       "      <th>50%</th>\n",
       "      <td>0.256510</td>\n",
       "      <td>0.000000</td>\n",
       "      <td>9.690000</td>\n",
       "      <td>0.000000</td>\n",
       "      <td>0.538000</td>\n",
       "      <td>6.208500</td>\n",
       "      <td>77.500000</td>\n",
       "      <td>3.207450</td>\n",
       "      <td>5.000000</td>\n",
       "      <td>330.000000</td>\n",
       "      <td>19.050000</td>\n",
       "      <td>391.440000</td>\n",
       "      <td>11.360000</td>\n",
       "    </tr>\n",
       "    <tr>\n",
       "      <th>75%</th>\n",
       "      <td>3.677083</td>\n",
       "      <td>12.500000</td>\n",
       "      <td>18.100000</td>\n",
       "      <td>0.000000</td>\n",
       "      <td>0.624000</td>\n",
       "      <td>6.623500</td>\n",
       "      <td>94.075000</td>\n",
       "      <td>5.188425</td>\n",
       "      <td>24.000000</td>\n",
       "      <td>666.000000</td>\n",
       "      <td>20.200000</td>\n",
       "      <td>396.225000</td>\n",
       "      <td>16.955000</td>\n",
       "    </tr>\n",
       "    <tr>\n",
       "      <th>max</th>\n",
       "      <td>88.976200</td>\n",
       "      <td>100.000000</td>\n",
       "      <td>27.740000</td>\n",
       "      <td>1.000000</td>\n",
       "      <td>0.871000</td>\n",
       "      <td>8.780000</td>\n",
       "      <td>100.000000</td>\n",
       "      <td>12.126500</td>\n",
       "      <td>24.000000</td>\n",
       "      <td>711.000000</td>\n",
       "      <td>22.000000</td>\n",
       "      <td>396.900000</td>\n",
       "      <td>37.970000</td>\n",
       "    </tr>\n",
       "  </tbody>\n",
       "</table>\n",
       "</div>"
      ],
      "text/plain": [
       "             CRIM          ZN       INDUS        CHAS         NOX          RM  \\\n",
       "count  506.000000  506.000000  506.000000  506.000000  506.000000  506.000000   \n",
       "mean     3.613524   11.363636   11.136779    0.069170    0.554695    6.284634   \n",
       "std      8.601545   23.322453    6.860353    0.253994    0.115878    0.702617   \n",
       "min      0.006320    0.000000    0.460000    0.000000    0.385000    3.561000   \n",
       "25%      0.082045    0.000000    5.190000    0.000000    0.449000    5.885500   \n",
       "50%      0.256510    0.000000    9.690000    0.000000    0.538000    6.208500   \n",
       "75%      3.677083   12.500000   18.100000    0.000000    0.624000    6.623500   \n",
       "max     88.976200  100.000000   27.740000    1.000000    0.871000    8.780000   \n",
       "\n",
       "              AGE         DIS         RAD         TAX     PTRATIO           B  \\\n",
       "count  506.000000  506.000000  506.000000  506.000000  506.000000  506.000000   \n",
       "mean    68.574901    3.795043    9.549407  408.237154   18.455534  356.674032   \n",
       "std     28.148861    2.105710    8.707259  168.537116    2.164946   91.294864   \n",
       "min      2.900000    1.129600    1.000000  187.000000   12.600000    0.320000   \n",
       "25%     45.025000    2.100175    4.000000  279.000000   17.400000  375.377500   \n",
       "50%     77.500000    3.207450    5.000000  330.000000   19.050000  391.440000   \n",
       "75%     94.075000    5.188425   24.000000  666.000000   20.200000  396.225000   \n",
       "max    100.000000   12.126500   24.000000  711.000000   22.000000  396.900000   \n",
       "\n",
       "            LSTAT  \n",
       "count  506.000000  \n",
       "mean    12.653063  \n",
       "std      7.141062  \n",
       "min      1.730000  \n",
       "25%      6.950000  \n",
       "50%     11.360000  \n",
       "75%     16.955000  \n",
       "max     37.970000  "
      ]
     },
     "execution_count": 15,
     "metadata": {},
     "output_type": "execute_result"
    }
   ],
   "source": [
    "# description statistique de X\n",
    "desc_xB"
   ]
  },
  {
   "cell_type": "code",
   "execution_count": 16,
   "metadata": {},
   "outputs": [
    {
     "data": {
      "text/plain": [
       "(506, 1)"
      ]
     },
     "execution_count": 16,
     "metadata": {},
     "output_type": "execute_result"
    }
   ],
   "source": [
    "# dimensions de y\n",
    "dim_yB"
   ]
  },
  {
   "cell_type": "code",
   "execution_count": 17,
   "metadata": {},
   "outputs": [
    {
     "data": {
      "text/html": [
       "<div>\n",
       "<style scoped>\n",
       "    .dataframe tbody tr th:only-of-type {\n",
       "        vertical-align: middle;\n",
       "    }\n",
       "\n",
       "    .dataframe tbody tr th {\n",
       "        vertical-align: top;\n",
       "    }\n",
       "\n",
       "    .dataframe thead th {\n",
       "        text-align: right;\n",
       "    }\n",
       "</style>\n",
       "<table border=\"1\" class=\"dataframe\">\n",
       "  <thead>\n",
       "    <tr style=\"text-align: right;\">\n",
       "      <th></th>\n",
       "      <th>0</th>\n",
       "    </tr>\n",
       "  </thead>\n",
       "  <tbody>\n",
       "    <tr>\n",
       "      <th>count</th>\n",
       "      <td>506.000000</td>\n",
       "    </tr>\n",
       "    <tr>\n",
       "      <th>mean</th>\n",
       "      <td>22.532806</td>\n",
       "    </tr>\n",
       "    <tr>\n",
       "      <th>std</th>\n",
       "      <td>9.197104</td>\n",
       "    </tr>\n",
       "    <tr>\n",
       "      <th>min</th>\n",
       "      <td>5.000000</td>\n",
       "    </tr>\n",
       "    <tr>\n",
       "      <th>25%</th>\n",
       "      <td>17.025000</td>\n",
       "    </tr>\n",
       "    <tr>\n",
       "      <th>50%</th>\n",
       "      <td>21.200000</td>\n",
       "    </tr>\n",
       "    <tr>\n",
       "      <th>75%</th>\n",
       "      <td>25.000000</td>\n",
       "    </tr>\n",
       "    <tr>\n",
       "      <th>max</th>\n",
       "      <td>50.000000</td>\n",
       "    </tr>\n",
       "  </tbody>\n",
       "</table>\n",
       "</div>"
      ],
      "text/plain": [
       "                0\n",
       "count  506.000000\n",
       "mean    22.532806\n",
       "std      9.197104\n",
       "min      5.000000\n",
       "25%     17.025000\n",
       "50%     21.200000\n",
       "75%     25.000000\n",
       "max     50.000000"
      ]
     },
     "execution_count": 17,
     "metadata": {},
     "output_type": "execute_result"
    }
   ],
   "source": [
    "# description statistique de y\n",
    "desc_yB"
   ]
  },
  {
   "cell_type": "code",
   "execution_count": 18,
   "metadata": {},
   "outputs": [
    {
     "data": {
      "text/html": [
       "<div>\n",
       "<style scoped>\n",
       "    .dataframe tbody tr th:only-of-type {\n",
       "        vertical-align: middle;\n",
       "    }\n",
       "\n",
       "    .dataframe tbody tr th {\n",
       "        vertical-align: top;\n",
       "    }\n",
       "\n",
       "    .dataframe thead th {\n",
       "        text-align: right;\n",
       "    }\n",
       "</style>\n",
       "<table border=\"1\" class=\"dataframe\">\n",
       "  <thead>\n",
       "    <tr style=\"text-align: right;\">\n",
       "      <th></th>\n",
       "      <th>CRIM</th>\n",
       "      <th>ZN</th>\n",
       "      <th>INDUS</th>\n",
       "      <th>CHAS</th>\n",
       "      <th>NOX</th>\n",
       "      <th>RM</th>\n",
       "      <th>AGE</th>\n",
       "      <th>DIS</th>\n",
       "      <th>RAD</th>\n",
       "      <th>TAX</th>\n",
       "      <th>PTRATIO</th>\n",
       "      <th>B</th>\n",
       "      <th>LSTAT</th>\n",
       "    </tr>\n",
       "  </thead>\n",
       "  <tbody>\n",
       "    <tr>\n",
       "      <th>CRIM</th>\n",
       "      <td>1.000000</td>\n",
       "      <td>-0.200469</td>\n",
       "      <td>0.406583</td>\n",
       "      <td>-0.055892</td>\n",
       "      <td>0.420972</td>\n",
       "      <td>-0.219247</td>\n",
       "      <td>0.352734</td>\n",
       "      <td>-0.379670</td>\n",
       "      <td>0.625505</td>\n",
       "      <td>0.582764</td>\n",
       "      <td>0.289946</td>\n",
       "      <td>-0.385064</td>\n",
       "      <td>0.455621</td>\n",
       "    </tr>\n",
       "    <tr>\n",
       "      <th>ZN</th>\n",
       "      <td>-0.200469</td>\n",
       "      <td>1.000000</td>\n",
       "      <td>-0.533828</td>\n",
       "      <td>-0.042697</td>\n",
       "      <td>-0.516604</td>\n",
       "      <td>0.311991</td>\n",
       "      <td>-0.569537</td>\n",
       "      <td>0.664408</td>\n",
       "      <td>-0.311948</td>\n",
       "      <td>-0.314563</td>\n",
       "      <td>-0.391679</td>\n",
       "      <td>0.175520</td>\n",
       "      <td>-0.412995</td>\n",
       "    </tr>\n",
       "    <tr>\n",
       "      <th>INDUS</th>\n",
       "      <td>0.406583</td>\n",
       "      <td>-0.533828</td>\n",
       "      <td>1.000000</td>\n",
       "      <td>0.062938</td>\n",
       "      <td>0.763651</td>\n",
       "      <td>-0.391676</td>\n",
       "      <td>0.644779</td>\n",
       "      <td>-0.708027</td>\n",
       "      <td>0.595129</td>\n",
       "      <td>0.720760</td>\n",
       "      <td>0.383248</td>\n",
       "      <td>-0.356977</td>\n",
       "      <td>0.603800</td>\n",
       "    </tr>\n",
       "    <tr>\n",
       "      <th>CHAS</th>\n",
       "      <td>-0.055892</td>\n",
       "      <td>-0.042697</td>\n",
       "      <td>0.062938</td>\n",
       "      <td>1.000000</td>\n",
       "      <td>0.091203</td>\n",
       "      <td>0.091251</td>\n",
       "      <td>0.086518</td>\n",
       "      <td>-0.099176</td>\n",
       "      <td>-0.007368</td>\n",
       "      <td>-0.035587</td>\n",
       "      <td>-0.121515</td>\n",
       "      <td>0.048788</td>\n",
       "      <td>-0.053929</td>\n",
       "    </tr>\n",
       "    <tr>\n",
       "      <th>NOX</th>\n",
       "      <td>0.420972</td>\n",
       "      <td>-0.516604</td>\n",
       "      <td>0.763651</td>\n",
       "      <td>0.091203</td>\n",
       "      <td>1.000000</td>\n",
       "      <td>-0.302188</td>\n",
       "      <td>0.731470</td>\n",
       "      <td>-0.769230</td>\n",
       "      <td>0.611441</td>\n",
       "      <td>0.668023</td>\n",
       "      <td>0.188933</td>\n",
       "      <td>-0.380051</td>\n",
       "      <td>0.590879</td>\n",
       "    </tr>\n",
       "    <tr>\n",
       "      <th>RM</th>\n",
       "      <td>-0.219247</td>\n",
       "      <td>0.311991</td>\n",
       "      <td>-0.391676</td>\n",
       "      <td>0.091251</td>\n",
       "      <td>-0.302188</td>\n",
       "      <td>1.000000</td>\n",
       "      <td>-0.240265</td>\n",
       "      <td>0.205246</td>\n",
       "      <td>-0.209847</td>\n",
       "      <td>-0.292048</td>\n",
       "      <td>-0.355501</td>\n",
       "      <td>0.128069</td>\n",
       "      <td>-0.613808</td>\n",
       "    </tr>\n",
       "    <tr>\n",
       "      <th>AGE</th>\n",
       "      <td>0.352734</td>\n",
       "      <td>-0.569537</td>\n",
       "      <td>0.644779</td>\n",
       "      <td>0.086518</td>\n",
       "      <td>0.731470</td>\n",
       "      <td>-0.240265</td>\n",
       "      <td>1.000000</td>\n",
       "      <td>-0.747881</td>\n",
       "      <td>0.456022</td>\n",
       "      <td>0.506456</td>\n",
       "      <td>0.261515</td>\n",
       "      <td>-0.273534</td>\n",
       "      <td>0.602339</td>\n",
       "    </tr>\n",
       "    <tr>\n",
       "      <th>DIS</th>\n",
       "      <td>-0.379670</td>\n",
       "      <td>0.664408</td>\n",
       "      <td>-0.708027</td>\n",
       "      <td>-0.099176</td>\n",
       "      <td>-0.769230</td>\n",
       "      <td>0.205246</td>\n",
       "      <td>-0.747881</td>\n",
       "      <td>1.000000</td>\n",
       "      <td>-0.494588</td>\n",
       "      <td>-0.534432</td>\n",
       "      <td>-0.232471</td>\n",
       "      <td>0.291512</td>\n",
       "      <td>-0.496996</td>\n",
       "    </tr>\n",
       "    <tr>\n",
       "      <th>RAD</th>\n",
       "      <td>0.625505</td>\n",
       "      <td>-0.311948</td>\n",
       "      <td>0.595129</td>\n",
       "      <td>-0.007368</td>\n",
       "      <td>0.611441</td>\n",
       "      <td>-0.209847</td>\n",
       "      <td>0.456022</td>\n",
       "      <td>-0.494588</td>\n",
       "      <td>1.000000</td>\n",
       "      <td>0.910228</td>\n",
       "      <td>0.464741</td>\n",
       "      <td>-0.444413</td>\n",
       "      <td>0.488676</td>\n",
       "    </tr>\n",
       "    <tr>\n",
       "      <th>TAX</th>\n",
       "      <td>0.582764</td>\n",
       "      <td>-0.314563</td>\n",
       "      <td>0.720760</td>\n",
       "      <td>-0.035587</td>\n",
       "      <td>0.668023</td>\n",
       "      <td>-0.292048</td>\n",
       "      <td>0.506456</td>\n",
       "      <td>-0.534432</td>\n",
       "      <td>0.910228</td>\n",
       "      <td>1.000000</td>\n",
       "      <td>0.460853</td>\n",
       "      <td>-0.441808</td>\n",
       "      <td>0.543993</td>\n",
       "    </tr>\n",
       "    <tr>\n",
       "      <th>PTRATIO</th>\n",
       "      <td>0.289946</td>\n",
       "      <td>-0.391679</td>\n",
       "      <td>0.383248</td>\n",
       "      <td>-0.121515</td>\n",
       "      <td>0.188933</td>\n",
       "      <td>-0.355501</td>\n",
       "      <td>0.261515</td>\n",
       "      <td>-0.232471</td>\n",
       "      <td>0.464741</td>\n",
       "      <td>0.460853</td>\n",
       "      <td>1.000000</td>\n",
       "      <td>-0.177383</td>\n",
       "      <td>0.374044</td>\n",
       "    </tr>\n",
       "    <tr>\n",
       "      <th>B</th>\n",
       "      <td>-0.385064</td>\n",
       "      <td>0.175520</td>\n",
       "      <td>-0.356977</td>\n",
       "      <td>0.048788</td>\n",
       "      <td>-0.380051</td>\n",
       "      <td>0.128069</td>\n",
       "      <td>-0.273534</td>\n",
       "      <td>0.291512</td>\n",
       "      <td>-0.444413</td>\n",
       "      <td>-0.441808</td>\n",
       "      <td>-0.177383</td>\n",
       "      <td>1.000000</td>\n",
       "      <td>-0.366087</td>\n",
       "    </tr>\n",
       "    <tr>\n",
       "      <th>LSTAT</th>\n",
       "      <td>0.455621</td>\n",
       "      <td>-0.412995</td>\n",
       "      <td>0.603800</td>\n",
       "      <td>-0.053929</td>\n",
       "      <td>0.590879</td>\n",
       "      <td>-0.613808</td>\n",
       "      <td>0.602339</td>\n",
       "      <td>-0.496996</td>\n",
       "      <td>0.488676</td>\n",
       "      <td>0.543993</td>\n",
       "      <td>0.374044</td>\n",
       "      <td>-0.366087</td>\n",
       "      <td>1.000000</td>\n",
       "    </tr>\n",
       "  </tbody>\n",
       "</table>\n",
       "</div>"
      ],
      "text/plain": [
       "             CRIM        ZN     INDUS      CHAS       NOX        RM       AGE  \\\n",
       "CRIM     1.000000 -0.200469  0.406583 -0.055892  0.420972 -0.219247  0.352734   \n",
       "ZN      -0.200469  1.000000 -0.533828 -0.042697 -0.516604  0.311991 -0.569537   \n",
       "INDUS    0.406583 -0.533828  1.000000  0.062938  0.763651 -0.391676  0.644779   \n",
       "CHAS    -0.055892 -0.042697  0.062938  1.000000  0.091203  0.091251  0.086518   \n",
       "NOX      0.420972 -0.516604  0.763651  0.091203  1.000000 -0.302188  0.731470   \n",
       "RM      -0.219247  0.311991 -0.391676  0.091251 -0.302188  1.000000 -0.240265   \n",
       "AGE      0.352734 -0.569537  0.644779  0.086518  0.731470 -0.240265  1.000000   \n",
       "DIS     -0.379670  0.664408 -0.708027 -0.099176 -0.769230  0.205246 -0.747881   \n",
       "RAD      0.625505 -0.311948  0.595129 -0.007368  0.611441 -0.209847  0.456022   \n",
       "TAX      0.582764 -0.314563  0.720760 -0.035587  0.668023 -0.292048  0.506456   \n",
       "PTRATIO  0.289946 -0.391679  0.383248 -0.121515  0.188933 -0.355501  0.261515   \n",
       "B       -0.385064  0.175520 -0.356977  0.048788 -0.380051  0.128069 -0.273534   \n",
       "LSTAT    0.455621 -0.412995  0.603800 -0.053929  0.590879 -0.613808  0.602339   \n",
       "\n",
       "              DIS       RAD       TAX   PTRATIO         B     LSTAT  \n",
       "CRIM    -0.379670  0.625505  0.582764  0.289946 -0.385064  0.455621  \n",
       "ZN       0.664408 -0.311948 -0.314563 -0.391679  0.175520 -0.412995  \n",
       "INDUS   -0.708027  0.595129  0.720760  0.383248 -0.356977  0.603800  \n",
       "CHAS    -0.099176 -0.007368 -0.035587 -0.121515  0.048788 -0.053929  \n",
       "NOX     -0.769230  0.611441  0.668023  0.188933 -0.380051  0.590879  \n",
       "RM       0.205246 -0.209847 -0.292048 -0.355501  0.128069 -0.613808  \n",
       "AGE     -0.747881  0.456022  0.506456  0.261515 -0.273534  0.602339  \n",
       "DIS      1.000000 -0.494588 -0.534432 -0.232471  0.291512 -0.496996  \n",
       "RAD     -0.494588  1.000000  0.910228  0.464741 -0.444413  0.488676  \n",
       "TAX     -0.534432  0.910228  1.000000  0.460853 -0.441808  0.543993  \n",
       "PTRATIO -0.232471  0.464741  0.460853  1.000000 -0.177383  0.374044  \n",
       "B        0.291512 -0.444413 -0.441808 -0.177383  1.000000 -0.366087  \n",
       "LSTAT   -0.496996  0.488676  0.543993  0.374044 -0.366087  1.000000  "
      ]
     },
     "execution_count": 18,
     "metadata": {},
     "output_type": "execute_result"
    }
   ],
   "source": [
    "# les corrélations\n",
    "xB_corr"
   ]
  },
  {
   "cell_type": "markdown",
   "metadata": {},
   "source": [
    "#### Constat :\n",
    "\n",
    "Pour le dataset Boston on peut voir que nous disposons de 506 observations (exemples ou occurences) aussi bien pour nos caractéristiques (X), que pour notre vairable cible (y).\n",
    "\n",
    "Par ailleur, on compte 13 dimensions (variables) pour nos X et une seule pour y, ce qui implique que notre prediction sera univariée.\n",
    "\n",
    "Statistiquement parlant, on peut observer que l'échelle des variables diffèrent d'une variable à une autre, par exemple, alors que la variabe CRIM a une valeur moyenne de (3.6), la variable TAX (Taux d'imposition foncière sur la valeur totale par tranche de 10 000 $) quant à elle a une valeur moyenne de (408.2) soit, 100 fois plus que CRIM (taux de criminalité par habitant par ville). Mais jusque là, sans avoir lu la littérature, nous ne pouvons pas savoir si on doit s'intérresser à l'échelle d'une variable en particulier, selon que celle-ci sera la plus influente lors de la prédiction, ici on s'intérresse à la Valeur médiane des maisons occupées par leur propriétaire en milliers de dollars, ce qui signifie que la médianne est un mesure important dans ce contexte.\n",
    "\n",
    "Enfin, l'une des difficultés que l'on pourrait rencontrer c'est de travailler avec des variables très correlées, ici par exemple on voit que (TAX, INDUS) : 0.72 et, (TAX, NOX) : 0.66, sont les plus correlés, on pourrait s'intérresser à les supprimer afin de réduire le bruit mais seulement, ce n'est certainement pas l'objetcif de ce TP.\n",
    "\n",
    "    - NOX : Concentration d'oxydes nitriques NOX (parties par 10 millions)\n",
    "    - INDUS : Proportion INDUS d'acres commerciales non commerciales par ville"
   ]
  },
  {
   "cell_type": "markdown",
   "metadata": {},
   "source": [
    "- Analyse Diabetes"
   ]
  },
  {
   "cell_type": "code",
   "execution_count": 19,
   "metadata": {},
   "outputs": [],
   "source": [
    "dim_xD, desc_xD, xY_corr, dim_yD, desc_yD = get_description(Xd, yd, 'load_diabetes')"
   ]
  },
  {
   "cell_type": "code",
   "execution_count": 20,
   "metadata": {},
   "outputs": [
    {
     "data": {
      "text/plain": [
       "(442, 10)"
      ]
     },
     "execution_count": 20,
     "metadata": {},
     "output_type": "execute_result"
    }
   ],
   "source": [
    "# dimensions de X\n",
    "dim_xD"
   ]
  },
  {
   "cell_type": "code",
   "execution_count": 21,
   "metadata": {},
   "outputs": [
    {
     "data": {
      "text/html": [
       "<div>\n",
       "<style scoped>\n",
       "    .dataframe tbody tr th:only-of-type {\n",
       "        vertical-align: middle;\n",
       "    }\n",
       "\n",
       "    .dataframe tbody tr th {\n",
       "        vertical-align: top;\n",
       "    }\n",
       "\n",
       "    .dataframe thead th {\n",
       "        text-align: right;\n",
       "    }\n",
       "</style>\n",
       "<table border=\"1\" class=\"dataframe\">\n",
       "  <thead>\n",
       "    <tr style=\"text-align: right;\">\n",
       "      <th></th>\n",
       "      <th>age</th>\n",
       "      <th>sex</th>\n",
       "      <th>bmi</th>\n",
       "      <th>bp</th>\n",
       "      <th>s1</th>\n",
       "      <th>s2</th>\n",
       "      <th>s3</th>\n",
       "      <th>s4</th>\n",
       "      <th>s5</th>\n",
       "      <th>s6</th>\n",
       "    </tr>\n",
       "  </thead>\n",
       "  <tbody>\n",
       "    <tr>\n",
       "      <th>count</th>\n",
       "      <td>4.420000e+02</td>\n",
       "      <td>4.420000e+02</td>\n",
       "      <td>4.420000e+02</td>\n",
       "      <td>4.420000e+02</td>\n",
       "      <td>4.420000e+02</td>\n",
       "      <td>4.420000e+02</td>\n",
       "      <td>4.420000e+02</td>\n",
       "      <td>4.420000e+02</td>\n",
       "      <td>4.420000e+02</td>\n",
       "      <td>4.420000e+02</td>\n",
       "    </tr>\n",
       "    <tr>\n",
       "      <th>mean</th>\n",
       "      <td>-3.634285e-16</td>\n",
       "      <td>1.308343e-16</td>\n",
       "      <td>-8.045349e-16</td>\n",
       "      <td>1.281655e-16</td>\n",
       "      <td>-8.835316e-17</td>\n",
       "      <td>1.327024e-16</td>\n",
       "      <td>-4.574646e-16</td>\n",
       "      <td>3.777301e-16</td>\n",
       "      <td>-3.830854e-16</td>\n",
       "      <td>-3.412882e-16</td>\n",
       "    </tr>\n",
       "    <tr>\n",
       "      <th>std</th>\n",
       "      <td>4.761905e-02</td>\n",
       "      <td>4.761905e-02</td>\n",
       "      <td>4.761905e-02</td>\n",
       "      <td>4.761905e-02</td>\n",
       "      <td>4.761905e-02</td>\n",
       "      <td>4.761905e-02</td>\n",
       "      <td>4.761905e-02</td>\n",
       "      <td>4.761905e-02</td>\n",
       "      <td>4.761905e-02</td>\n",
       "      <td>4.761905e-02</td>\n",
       "    </tr>\n",
       "    <tr>\n",
       "      <th>min</th>\n",
       "      <td>-1.072256e-01</td>\n",
       "      <td>-4.464164e-02</td>\n",
       "      <td>-9.027530e-02</td>\n",
       "      <td>-1.123996e-01</td>\n",
       "      <td>-1.267807e-01</td>\n",
       "      <td>-1.156131e-01</td>\n",
       "      <td>-1.023071e-01</td>\n",
       "      <td>-7.639450e-02</td>\n",
       "      <td>-1.260974e-01</td>\n",
       "      <td>-1.377672e-01</td>\n",
       "    </tr>\n",
       "    <tr>\n",
       "      <th>25%</th>\n",
       "      <td>-3.729927e-02</td>\n",
       "      <td>-4.464164e-02</td>\n",
       "      <td>-3.422907e-02</td>\n",
       "      <td>-3.665645e-02</td>\n",
       "      <td>-3.424784e-02</td>\n",
       "      <td>-3.035840e-02</td>\n",
       "      <td>-3.511716e-02</td>\n",
       "      <td>-3.949338e-02</td>\n",
       "      <td>-3.324879e-02</td>\n",
       "      <td>-3.317903e-02</td>\n",
       "    </tr>\n",
       "    <tr>\n",
       "      <th>50%</th>\n",
       "      <td>5.383060e-03</td>\n",
       "      <td>-4.464164e-02</td>\n",
       "      <td>-7.283766e-03</td>\n",
       "      <td>-5.670611e-03</td>\n",
       "      <td>-4.320866e-03</td>\n",
       "      <td>-3.819065e-03</td>\n",
       "      <td>-6.584468e-03</td>\n",
       "      <td>-2.592262e-03</td>\n",
       "      <td>-1.947634e-03</td>\n",
       "      <td>-1.077698e-03</td>\n",
       "    </tr>\n",
       "    <tr>\n",
       "      <th>75%</th>\n",
       "      <td>3.807591e-02</td>\n",
       "      <td>5.068012e-02</td>\n",
       "      <td>3.124802e-02</td>\n",
       "      <td>3.564384e-02</td>\n",
       "      <td>2.835801e-02</td>\n",
       "      <td>2.984439e-02</td>\n",
       "      <td>2.931150e-02</td>\n",
       "      <td>3.430886e-02</td>\n",
       "      <td>3.243323e-02</td>\n",
       "      <td>2.791705e-02</td>\n",
       "    </tr>\n",
       "    <tr>\n",
       "      <th>max</th>\n",
       "      <td>1.107267e-01</td>\n",
       "      <td>5.068012e-02</td>\n",
       "      <td>1.705552e-01</td>\n",
       "      <td>1.320442e-01</td>\n",
       "      <td>1.539137e-01</td>\n",
       "      <td>1.987880e-01</td>\n",
       "      <td>1.811791e-01</td>\n",
       "      <td>1.852344e-01</td>\n",
       "      <td>1.335990e-01</td>\n",
       "      <td>1.356118e-01</td>\n",
       "    </tr>\n",
       "  </tbody>\n",
       "</table>\n",
       "</div>"
      ],
      "text/plain": [
       "                age           sex           bmi            bp            s1  \\\n",
       "count  4.420000e+02  4.420000e+02  4.420000e+02  4.420000e+02  4.420000e+02   \n",
       "mean  -3.634285e-16  1.308343e-16 -8.045349e-16  1.281655e-16 -8.835316e-17   \n",
       "std    4.761905e-02  4.761905e-02  4.761905e-02  4.761905e-02  4.761905e-02   \n",
       "min   -1.072256e-01 -4.464164e-02 -9.027530e-02 -1.123996e-01 -1.267807e-01   \n",
       "25%   -3.729927e-02 -4.464164e-02 -3.422907e-02 -3.665645e-02 -3.424784e-02   \n",
       "50%    5.383060e-03 -4.464164e-02 -7.283766e-03 -5.670611e-03 -4.320866e-03   \n",
       "75%    3.807591e-02  5.068012e-02  3.124802e-02  3.564384e-02  2.835801e-02   \n",
       "max    1.107267e-01  5.068012e-02  1.705552e-01  1.320442e-01  1.539137e-01   \n",
       "\n",
       "                 s2            s3            s4            s5            s6  \n",
       "count  4.420000e+02  4.420000e+02  4.420000e+02  4.420000e+02  4.420000e+02  \n",
       "mean   1.327024e-16 -4.574646e-16  3.777301e-16 -3.830854e-16 -3.412882e-16  \n",
       "std    4.761905e-02  4.761905e-02  4.761905e-02  4.761905e-02  4.761905e-02  \n",
       "min   -1.156131e-01 -1.023071e-01 -7.639450e-02 -1.260974e-01 -1.377672e-01  \n",
       "25%   -3.035840e-02 -3.511716e-02 -3.949338e-02 -3.324879e-02 -3.317903e-02  \n",
       "50%   -3.819065e-03 -6.584468e-03 -2.592262e-03 -1.947634e-03 -1.077698e-03  \n",
       "75%    2.984439e-02  2.931150e-02  3.430886e-02  3.243323e-02  2.791705e-02  \n",
       "max    1.987880e-01  1.811791e-01  1.852344e-01  1.335990e-01  1.356118e-01  "
      ]
     },
     "execution_count": 21,
     "metadata": {},
     "output_type": "execute_result"
    }
   ],
   "source": [
    "# description statistique de X\n",
    "desc_xD"
   ]
  },
  {
   "cell_type": "code",
   "execution_count": 22,
   "metadata": {},
   "outputs": [
    {
     "data": {
      "text/plain": [
       "(442, 1)"
      ]
     },
     "execution_count": 22,
     "metadata": {},
     "output_type": "execute_result"
    }
   ],
   "source": [
    "# dimension y\n",
    "dim_yD"
   ]
  },
  {
   "cell_type": "code",
   "execution_count": 23,
   "metadata": {},
   "outputs": [
    {
     "data": {
      "text/html": [
       "<div>\n",
       "<style scoped>\n",
       "    .dataframe tbody tr th:only-of-type {\n",
       "        vertical-align: middle;\n",
       "    }\n",
       "\n",
       "    .dataframe tbody tr th {\n",
       "        vertical-align: top;\n",
       "    }\n",
       "\n",
       "    .dataframe thead th {\n",
       "        text-align: right;\n",
       "    }\n",
       "</style>\n",
       "<table border=\"1\" class=\"dataframe\">\n",
       "  <thead>\n",
       "    <tr style=\"text-align: right;\">\n",
       "      <th></th>\n",
       "      <th>0</th>\n",
       "    </tr>\n",
       "  </thead>\n",
       "  <tbody>\n",
       "    <tr>\n",
       "      <th>count</th>\n",
       "      <td>442.000000</td>\n",
       "    </tr>\n",
       "    <tr>\n",
       "      <th>mean</th>\n",
       "      <td>152.133484</td>\n",
       "    </tr>\n",
       "    <tr>\n",
       "      <th>std</th>\n",
       "      <td>77.093005</td>\n",
       "    </tr>\n",
       "    <tr>\n",
       "      <th>min</th>\n",
       "      <td>25.000000</td>\n",
       "    </tr>\n",
       "    <tr>\n",
       "      <th>25%</th>\n",
       "      <td>87.000000</td>\n",
       "    </tr>\n",
       "    <tr>\n",
       "      <th>50%</th>\n",
       "      <td>140.500000</td>\n",
       "    </tr>\n",
       "    <tr>\n",
       "      <th>75%</th>\n",
       "      <td>211.500000</td>\n",
       "    </tr>\n",
       "    <tr>\n",
       "      <th>max</th>\n",
       "      <td>346.000000</td>\n",
       "    </tr>\n",
       "  </tbody>\n",
       "</table>\n",
       "</div>"
      ],
      "text/plain": [
       "                0\n",
       "count  442.000000\n",
       "mean   152.133484\n",
       "std     77.093005\n",
       "min     25.000000\n",
       "25%     87.000000\n",
       "50%    140.500000\n",
       "75%    211.500000\n",
       "max    346.000000"
      ]
     },
     "execution_count": 23,
     "metadata": {},
     "output_type": "execute_result"
    }
   ],
   "source": [
    "# description statistique de y\n",
    "desc_yD"
   ]
  },
  {
   "cell_type": "code",
   "execution_count": 24,
   "metadata": {},
   "outputs": [
    {
     "data": {
      "text/html": [
       "<div>\n",
       "<style scoped>\n",
       "    .dataframe tbody tr th:only-of-type {\n",
       "        vertical-align: middle;\n",
       "    }\n",
       "\n",
       "    .dataframe tbody tr th {\n",
       "        vertical-align: top;\n",
       "    }\n",
       "\n",
       "    .dataframe thead th {\n",
       "        text-align: right;\n",
       "    }\n",
       "</style>\n",
       "<table border=\"1\" class=\"dataframe\">\n",
       "  <thead>\n",
       "    <tr style=\"text-align: right;\">\n",
       "      <th></th>\n",
       "      <th>age</th>\n",
       "      <th>sex</th>\n",
       "      <th>bmi</th>\n",
       "      <th>bp</th>\n",
       "      <th>s1</th>\n",
       "      <th>s2</th>\n",
       "      <th>s3</th>\n",
       "      <th>s4</th>\n",
       "      <th>s5</th>\n",
       "      <th>s6</th>\n",
       "    </tr>\n",
       "  </thead>\n",
       "  <tbody>\n",
       "    <tr>\n",
       "      <th>age</th>\n",
       "      <td>1.000000</td>\n",
       "      <td>0.173737</td>\n",
       "      <td>0.185085</td>\n",
       "      <td>0.335427</td>\n",
       "      <td>0.260061</td>\n",
       "      <td>0.219243</td>\n",
       "      <td>-0.075181</td>\n",
       "      <td>0.203841</td>\n",
       "      <td>0.270777</td>\n",
       "      <td>0.301731</td>\n",
       "    </tr>\n",
       "    <tr>\n",
       "      <th>sex</th>\n",
       "      <td>0.173737</td>\n",
       "      <td>1.000000</td>\n",
       "      <td>0.088161</td>\n",
       "      <td>0.241013</td>\n",
       "      <td>0.035277</td>\n",
       "      <td>0.142637</td>\n",
       "      <td>-0.379090</td>\n",
       "      <td>0.332115</td>\n",
       "      <td>0.149918</td>\n",
       "      <td>0.208133</td>\n",
       "    </tr>\n",
       "    <tr>\n",
       "      <th>bmi</th>\n",
       "      <td>0.185085</td>\n",
       "      <td>0.088161</td>\n",
       "      <td>1.000000</td>\n",
       "      <td>0.395415</td>\n",
       "      <td>0.249777</td>\n",
       "      <td>0.261170</td>\n",
       "      <td>-0.366811</td>\n",
       "      <td>0.413807</td>\n",
       "      <td>0.446159</td>\n",
       "      <td>0.388680</td>\n",
       "    </tr>\n",
       "    <tr>\n",
       "      <th>bp</th>\n",
       "      <td>0.335427</td>\n",
       "      <td>0.241013</td>\n",
       "      <td>0.395415</td>\n",
       "      <td>1.000000</td>\n",
       "      <td>0.242470</td>\n",
       "      <td>0.185558</td>\n",
       "      <td>-0.178761</td>\n",
       "      <td>0.257653</td>\n",
       "      <td>0.393478</td>\n",
       "      <td>0.390429</td>\n",
       "    </tr>\n",
       "    <tr>\n",
       "      <th>s1</th>\n",
       "      <td>0.260061</td>\n",
       "      <td>0.035277</td>\n",
       "      <td>0.249777</td>\n",
       "      <td>0.242470</td>\n",
       "      <td>1.000000</td>\n",
       "      <td>0.896663</td>\n",
       "      <td>0.051519</td>\n",
       "      <td>0.542207</td>\n",
       "      <td>0.515501</td>\n",
       "      <td>0.325717</td>\n",
       "    </tr>\n",
       "    <tr>\n",
       "      <th>s2</th>\n",
       "      <td>0.219243</td>\n",
       "      <td>0.142637</td>\n",
       "      <td>0.261170</td>\n",
       "      <td>0.185558</td>\n",
       "      <td>0.896663</td>\n",
       "      <td>1.000000</td>\n",
       "      <td>-0.196455</td>\n",
       "      <td>0.659817</td>\n",
       "      <td>0.318353</td>\n",
       "      <td>0.290600</td>\n",
       "    </tr>\n",
       "    <tr>\n",
       "      <th>s3</th>\n",
       "      <td>-0.075181</td>\n",
       "      <td>-0.379090</td>\n",
       "      <td>-0.366811</td>\n",
       "      <td>-0.178761</td>\n",
       "      <td>0.051519</td>\n",
       "      <td>-0.196455</td>\n",
       "      <td>1.000000</td>\n",
       "      <td>-0.738493</td>\n",
       "      <td>-0.398577</td>\n",
       "      <td>-0.273697</td>\n",
       "    </tr>\n",
       "    <tr>\n",
       "      <th>s4</th>\n",
       "      <td>0.203841</td>\n",
       "      <td>0.332115</td>\n",
       "      <td>0.413807</td>\n",
       "      <td>0.257653</td>\n",
       "      <td>0.542207</td>\n",
       "      <td>0.659817</td>\n",
       "      <td>-0.738493</td>\n",
       "      <td>1.000000</td>\n",
       "      <td>0.617857</td>\n",
       "      <td>0.417212</td>\n",
       "    </tr>\n",
       "    <tr>\n",
       "      <th>s5</th>\n",
       "      <td>0.270777</td>\n",
       "      <td>0.149918</td>\n",
       "      <td>0.446159</td>\n",
       "      <td>0.393478</td>\n",
       "      <td>0.515501</td>\n",
       "      <td>0.318353</td>\n",
       "      <td>-0.398577</td>\n",
       "      <td>0.617857</td>\n",
       "      <td>1.000000</td>\n",
       "      <td>0.464670</td>\n",
       "    </tr>\n",
       "    <tr>\n",
       "      <th>s6</th>\n",
       "      <td>0.301731</td>\n",
       "      <td>0.208133</td>\n",
       "      <td>0.388680</td>\n",
       "      <td>0.390429</td>\n",
       "      <td>0.325717</td>\n",
       "      <td>0.290600</td>\n",
       "      <td>-0.273697</td>\n",
       "      <td>0.417212</td>\n",
       "      <td>0.464670</td>\n",
       "      <td>1.000000</td>\n",
       "    </tr>\n",
       "  </tbody>\n",
       "</table>\n",
       "</div>"
      ],
      "text/plain": [
       "          age       sex       bmi        bp        s1        s2        s3  \\\n",
       "age  1.000000  0.173737  0.185085  0.335427  0.260061  0.219243 -0.075181   \n",
       "sex  0.173737  1.000000  0.088161  0.241013  0.035277  0.142637 -0.379090   \n",
       "bmi  0.185085  0.088161  1.000000  0.395415  0.249777  0.261170 -0.366811   \n",
       "bp   0.335427  0.241013  0.395415  1.000000  0.242470  0.185558 -0.178761   \n",
       "s1   0.260061  0.035277  0.249777  0.242470  1.000000  0.896663  0.051519   \n",
       "s2   0.219243  0.142637  0.261170  0.185558  0.896663  1.000000 -0.196455   \n",
       "s3  -0.075181 -0.379090 -0.366811 -0.178761  0.051519 -0.196455  1.000000   \n",
       "s4   0.203841  0.332115  0.413807  0.257653  0.542207  0.659817 -0.738493   \n",
       "s5   0.270777  0.149918  0.446159  0.393478  0.515501  0.318353 -0.398577   \n",
       "s6   0.301731  0.208133  0.388680  0.390429  0.325717  0.290600 -0.273697   \n",
       "\n",
       "           s4        s5        s6  \n",
       "age  0.203841  0.270777  0.301731  \n",
       "sex  0.332115  0.149918  0.208133  \n",
       "bmi  0.413807  0.446159  0.388680  \n",
       "bp   0.257653  0.393478  0.390429  \n",
       "s1   0.542207  0.515501  0.325717  \n",
       "s2   0.659817  0.318353  0.290600  \n",
       "s3  -0.738493 -0.398577 -0.273697  \n",
       "s4   1.000000  0.617857  0.417212  \n",
       "s5   0.617857  1.000000  0.464670  \n",
       "s6   0.417212  0.464670  1.000000  "
      ]
     },
     "execution_count": 24,
     "metadata": {},
     "output_type": "execute_result"
    }
   ],
   "source": [
    "# les corrélations\n",
    "xY_corr"
   ]
  },
  {
   "cell_type": "markdown",
   "metadata": {},
   "source": [
    "#### Constat :\n",
    "\n",
    "Pour le dataset Diabetes on peut voir que nous disposons de 402 observations (exemples ou occurences) aussi bien pour nos caractéristiques (X), que pour notre vairable cible (y).\n",
    "\n",
    "Par ailleur, on compte 10 dimensions (variables) pour nos X et une seule pour y, ce qui implique que notre prediction sera univariée.\n",
    "\n",
    "Statistiquement parlant, on peut observer que l'échelle des variables diffèrent pas autant que dans le dataset précédent et, puisque jusque là, sans avoir lu la littérature, nous ne pouvons pas savoir si on doit s'intérresser à l'échelle du'ne variable en particulier, selon que celle-ci soit la plus influente en terme de prédiction, ici nous prédision (la réponse d'intérêt) une mesure quantitative de la progression de la maladie un an après le départ.\n",
    "\n",
    "Enfin, l'une des difficultés que l'on pourrait rencontrer c'est de travailler avec des variables très correlées, ici par exemple on voit que (s4, s2) et, (s5, s4) sont les plus correlés mais ne sont pas aussi correlé que dans le dataset précédent, les supprimer afin de réduire le bruit n'est vraiement pas nécessaire, mais toutes fois ici, ce n'est certainement pas l'objetcif de ce TP. \n",
    "\n",
    "    - s2 : ldl (low-density lipoproteins), lipoprotéines de basse densité\n",
    "    - s4 : tch (total cholesterol), cholestérol total / HDL\n",
    "    - s5 : ltg (log of serum triglycerides level), éventuellement logarithme du taux de triglycérides sériques"
   ]
  },
  {
   "cell_type": "markdown",
   "metadata": {},
   "source": [
    "Visualisez l’ensemble des données en fonction de chaque variable explicative et de la réponse, où chaque sous-figure est la représentation des données\n",
    "en fonction d’une des variables explicatives en abscisse, et de la réponse en ordonnée."
   ]
  },
  {
   "cell_type": "code",
   "execution_count": 35,
   "metadata": {},
   "outputs": [],
   "source": [
    "def get_fig(X,y):    \n",
    "    '''\n",
    "    Cette fonction affiche la figure demandé,\n",
    "    il s'agit des nuages de points entre les valeurs de chaque vairables et,\n",
    "    la réponse\n",
    "    '''\n",
    "    fig = plt.figure()\n",
    "    fig.set_size_inches((15,15))\n",
    "    f, ax = plt.subplots(4,4)\n",
    "    k = X.shape[1]\n",
    "    n = k\n",
    "    for i in range(4):\n",
    "        if(i==3):\n",
    "            break\n",
    "        for j in range(4):\n",
    "            ax[i][j].scatter(X[:,n-k],y)\n",
    "            k = k-1\n",
    "    ax[3][0].scatter(X[:,12],y)\n",
    "    plt.show()"
   ]
  },
  {
   "cell_type": "code",
   "execution_count": 36,
   "metadata": {},
   "outputs": [
    {
     "data": {
      "text/plain": [
       "<Figure size 1080x1080 with 0 Axes>"
      ]
     },
     "metadata": {},
     "output_type": "display_data"
    },
    {
     "data": {
      "image/png": "[encoded data removed]",
      "text/plain": [
       "<Figure size 432x288 with 16 Axes>"
      ]
     },
     "metadata": {
      "needs_background": "light"
     },
     "output_type": "display_data"
    }
   ],
   "source": [
    "get_fig(Xb,yb)"
   ]
  },
  {
   "cell_type": "markdown",
   "metadata": {},
   "source": [
    "## Partie 2 : Régression des moindres carrés ordinaires"
   ]
  },
  {
   "cell_type": "markdown",
   "metadata": {},
   "source": [
    "Nous créons la matrice d’apprentissage X telle que nous l’avons vu en cours, en ajoutant une colonne de 1 aux exemples. Cette matrice est appelé ”matrice augmentée” par la suite."
   ]
  },
  {
   "cell_type": "code",
   "execution_count": 37,
   "metadata": {},
   "outputs": [
    {
     "data": {
      "text/plain": [
       "(array([[6.3200e-03, 1.8000e+01, 2.3100e+00, ..., 1.5300e+01, 3.9690e+02,\n",
       "         4.9800e+00],\n",
       "        [2.7310e-02, 0.0000e+00, 7.0700e+00, ..., 1.7800e+01, 3.9690e+02,\n",
       "         9.1400e+00],\n",
       "        [2.7290e-02, 0.0000e+00, 7.0700e+00, ..., 1.7800e+01, 3.9283e+02,\n",
       "         4.0300e+00],\n",
       "        ...,\n",
       "        [6.0760e-02, 0.0000e+00, 1.1930e+01, ..., 2.1000e+01, 3.9690e+02,\n",
       "         5.6400e+00],\n",
       "        [1.0959e-01, 0.0000e+00, 1.1930e+01, ..., 2.1000e+01, 3.9345e+02,\n",
       "         6.4800e+00],\n",
       "        [4.7410e-02, 0.0000e+00, 1.1930e+01, ..., 2.1000e+01, 3.9690e+02,\n",
       "         7.8800e+00]]),\n",
       " array([[ 0.03807591,  0.05068012,  0.06169621, ..., -0.00259226,\n",
       "          0.01990842, -0.01764613],\n",
       "        [-0.00188202, -0.04464164, -0.05147406, ..., -0.03949338,\n",
       "         -0.06832974, -0.09220405],\n",
       "        [ 0.08529891,  0.05068012,  0.04445121, ..., -0.00259226,\n",
       "          0.00286377, -0.02593034],\n",
       "        ...,\n",
       "        [ 0.04170844,  0.05068012, -0.01590626, ..., -0.01107952,\n",
       "         -0.04687948,  0.01549073],\n",
       "        [-0.04547248, -0.04464164,  0.03906215, ...,  0.02655962,\n",
       "          0.04452837, -0.02593034],\n",
       "        [-0.04547248, -0.04464164, -0.0730303 , ..., -0.03949338,\n",
       "         -0.00421986,  0.00306441]]))"
      ]
     },
     "execution_count": 37,
     "metadata": {},
     "output_type": "execute_result"
    }
   ],
   "source": [
    "# dans notre cs, Xb et Xd qui représentent\n",
    "# la matrice X pour boston et, la matrice X pour le diabète, respectivement\n",
    "Xb, Xd"
   ]
  },
  {
   "cell_type": "code",
   "execution_count": 38,
   "metadata": {},
   "outputs": [],
   "source": [
    "def get_matAugmented(X):\n",
    "    '''\n",
    "    A l'image de notre cours de HPC (High Performance Computing),\n",
    "    nous adoptons pour une façon optimale de faire élargir notre matrice X,\n",
    "    Cette focntion renvoie : la matrice X augmentée,\n",
    "    c'est à dire avec une colonne supplémentaire, représentant ici le biais.\n",
    "    le biais = 1\n",
    "    '''\n",
    "    idim,jdim = X.shape\n",
    "    Xplus = np.ones((idim,jdim + 1))\n",
    "    Xplus[:,0:jdim] = X[:,:]\n",
    "    return Xplus"
   ]
  },
  {
   "cell_type": "code",
   "execution_count": 39,
   "metadata": {},
   "outputs": [
    {
     "data": {
      "text/html": [
       "<div>\n",
       "<style scoped>\n",
       "    .dataframe tbody tr th:only-of-type {\n",
       "        vertical-align: middle;\n",
       "    }\n",
       "\n",
       "    .dataframe tbody tr th {\n",
       "        vertical-align: top;\n",
       "    }\n",
       "\n",
       "    .dataframe thead th {\n",
       "        text-align: right;\n",
       "    }\n",
       "</style>\n",
       "<table border=\"1\" class=\"dataframe\">\n",
       "  <thead>\n",
       "    <tr style=\"text-align: right;\">\n",
       "      <th></th>\n",
       "      <th>0</th>\n",
       "      <th>1</th>\n",
       "      <th>2</th>\n",
       "      <th>3</th>\n",
       "      <th>4</th>\n",
       "      <th>5</th>\n",
       "      <th>6</th>\n",
       "      <th>7</th>\n",
       "      <th>8</th>\n",
       "      <th>9</th>\n",
       "      <th>10</th>\n",
       "      <th>11</th>\n",
       "      <th>12</th>\n",
       "      <th>13</th>\n",
       "    </tr>\n",
       "  </thead>\n",
       "  <tbody>\n",
       "    <tr>\n",
       "      <th>0</th>\n",
       "      <td>0.00632</td>\n",
       "      <td>18.0</td>\n",
       "      <td>2.31</td>\n",
       "      <td>0.0</td>\n",
       "      <td>0.538</td>\n",
       "      <td>6.575</td>\n",
       "      <td>65.2</td>\n",
       "      <td>4.0900</td>\n",
       "      <td>1.0</td>\n",
       "      <td>296.0</td>\n",
       "      <td>15.3</td>\n",
       "      <td>396.90</td>\n",
       "      <td>4.98</td>\n",
       "      <td>1.0</td>\n",
       "    </tr>\n",
       "    <tr>\n",
       "      <th>1</th>\n",
       "      <td>0.02731</td>\n",
       "      <td>0.0</td>\n",
       "      <td>7.07</td>\n",
       "      <td>0.0</td>\n",
       "      <td>0.469</td>\n",
       "      <td>6.421</td>\n",
       "      <td>78.9</td>\n",
       "      <td>4.9671</td>\n",
       "      <td>2.0</td>\n",
       "      <td>242.0</td>\n",
       "      <td>17.8</td>\n",
       "      <td>396.90</td>\n",
       "      <td>9.14</td>\n",
       "      <td>1.0</td>\n",
       "    </tr>\n",
       "    <tr>\n",
       "      <th>2</th>\n",
       "      <td>0.02729</td>\n",
       "      <td>0.0</td>\n",
       "      <td>7.07</td>\n",
       "      <td>0.0</td>\n",
       "      <td>0.469</td>\n",
       "      <td>7.185</td>\n",
       "      <td>61.1</td>\n",
       "      <td>4.9671</td>\n",
       "      <td>2.0</td>\n",
       "      <td>242.0</td>\n",
       "      <td>17.8</td>\n",
       "      <td>392.83</td>\n",
       "      <td>4.03</td>\n",
       "      <td>1.0</td>\n",
       "    </tr>\n",
       "    <tr>\n",
       "      <th>3</th>\n",
       "      <td>0.03237</td>\n",
       "      <td>0.0</td>\n",
       "      <td>2.18</td>\n",
       "      <td>0.0</td>\n",
       "      <td>0.458</td>\n",
       "      <td>6.998</td>\n",
       "      <td>45.8</td>\n",
       "      <td>6.0622</td>\n",
       "      <td>3.0</td>\n",
       "      <td>222.0</td>\n",
       "      <td>18.7</td>\n",
       "      <td>394.63</td>\n",
       "      <td>2.94</td>\n",
       "      <td>1.0</td>\n",
       "    </tr>\n",
       "    <tr>\n",
       "      <th>4</th>\n",
       "      <td>0.06905</td>\n",
       "      <td>0.0</td>\n",
       "      <td>2.18</td>\n",
       "      <td>0.0</td>\n",
       "      <td>0.458</td>\n",
       "      <td>7.147</td>\n",
       "      <td>54.2</td>\n",
       "      <td>6.0622</td>\n",
       "      <td>3.0</td>\n",
       "      <td>222.0</td>\n",
       "      <td>18.7</td>\n",
       "      <td>396.90</td>\n",
       "      <td>5.33</td>\n",
       "      <td>1.0</td>\n",
       "    </tr>\n",
       "    <tr>\n",
       "      <th>...</th>\n",
       "      <td>...</td>\n",
       "      <td>...</td>\n",
       "      <td>...</td>\n",
       "      <td>...</td>\n",
       "      <td>...</td>\n",
       "      <td>...</td>\n",
       "      <td>...</td>\n",
       "      <td>...</td>\n",
       "      <td>...</td>\n",
       "      <td>...</td>\n",
       "      <td>...</td>\n",
       "      <td>...</td>\n",
       "      <td>...</td>\n",
       "      <td>...</td>\n",
       "    </tr>\n",
       "    <tr>\n",
       "      <th>501</th>\n",
       "      <td>0.06263</td>\n",
       "      <td>0.0</td>\n",
       "      <td>11.93</td>\n",
       "      <td>0.0</td>\n",
       "      <td>0.573</td>\n",
       "      <td>6.593</td>\n",
       "      <td>69.1</td>\n",
       "      <td>2.4786</td>\n",
       "      <td>1.0</td>\n",
       "      <td>273.0</td>\n",
       "      <td>21.0</td>\n",
       "      <td>391.99</td>\n",
       "      <td>9.67</td>\n",
       "      <td>1.0</td>\n",
       "    </tr>\n",
       "    <tr>\n",
       "      <th>502</th>\n",
       "      <td>0.04527</td>\n",
       "      <td>0.0</td>\n",
       "      <td>11.93</td>\n",
       "      <td>0.0</td>\n",
       "      <td>0.573</td>\n",
       "      <td>6.120</td>\n",
       "      <td>76.7</td>\n",
       "      <td>2.2875</td>\n",
       "      <td>1.0</td>\n",
       "      <td>273.0</td>\n",
       "      <td>21.0</td>\n",
       "      <td>396.90</td>\n",
       "      <td>9.08</td>\n",
       "      <td>1.0</td>\n",
       "    </tr>\n",
       "    <tr>\n",
       "      <th>503</th>\n",
       "      <td>0.06076</td>\n",
       "      <td>0.0</td>\n",
       "      <td>11.93</td>\n",
       "      <td>0.0</td>\n",
       "      <td>0.573</td>\n",
       "      <td>6.976</td>\n",
       "      <td>91.0</td>\n",
       "      <td>2.1675</td>\n",
       "      <td>1.0</td>\n",
       "      <td>273.0</td>\n",
       "      <td>21.0</td>\n",
       "      <td>396.90</td>\n",
       "      <td>5.64</td>\n",
       "      <td>1.0</td>\n",
       "    </tr>\n",
       "    <tr>\n",
       "      <th>504</th>\n",
       "      <td>0.10959</td>\n",
       "      <td>0.0</td>\n",
       "      <td>11.93</td>\n",
       "      <td>0.0</td>\n",
       "      <td>0.573</td>\n",
       "      <td>6.794</td>\n",
       "      <td>89.3</td>\n",
       "      <td>2.3889</td>\n",
       "      <td>1.0</td>\n",
       "      <td>273.0</td>\n",
       "      <td>21.0</td>\n",
       "      <td>393.45</td>\n",
       "      <td>6.48</td>\n",
       "      <td>1.0</td>\n",
       "    </tr>\n",
       "    <tr>\n",
       "      <th>505</th>\n",
       "      <td>0.04741</td>\n",
       "      <td>0.0</td>\n",
       "      <td>11.93</td>\n",
       "      <td>0.0</td>\n",
       "      <td>0.573</td>\n",
       "      <td>6.030</td>\n",
       "      <td>80.8</td>\n",
       "      <td>2.5050</td>\n",
       "      <td>1.0</td>\n",
       "      <td>273.0</td>\n",
       "      <td>21.0</td>\n",
       "      <td>396.90</td>\n",
       "      <td>7.88</td>\n",
       "      <td>1.0</td>\n",
       "    </tr>\n",
       "  </tbody>\n",
       "</table>\n",
       "<p>506 rows × 14 columns</p>\n",
       "</div>"
      ],
      "text/plain": [
       "          0     1      2    3      4      5     6       7    8      9     10  \\\n",
       "0    0.00632  18.0   2.31  0.0  0.538  6.575  65.2  4.0900  1.0  296.0  15.3   \n",
       "1    0.02731   0.0   7.07  0.0  0.469  6.421  78.9  4.9671  2.0  242.0  17.8   \n",
       "2    0.02729   0.0   7.07  0.0  0.469  7.185  61.1  4.9671  2.0  242.0  17.8   \n",
       "3    0.03237   0.0   2.18  0.0  0.458  6.998  45.8  6.0622  3.0  222.0  18.7   \n",
       "4    0.06905   0.0   2.18  0.0  0.458  7.147  54.2  6.0622  3.0  222.0  18.7   \n",
       "..       ...   ...    ...  ...    ...    ...   ...     ...  ...    ...   ...   \n",
       "501  0.06263   0.0  11.93  0.0  0.573  6.593  69.1  2.4786  1.0  273.0  21.0   \n",
       "502  0.04527   0.0  11.93  0.0  0.573  6.120  76.7  2.2875  1.0  273.0  21.0   \n",
       "503  0.06076   0.0  11.93  0.0  0.573  6.976  91.0  2.1675  1.0  273.0  21.0   \n",
       "504  0.10959   0.0  11.93  0.0  0.573  6.794  89.3  2.3889  1.0  273.0  21.0   \n",
       "505  0.04741   0.0  11.93  0.0  0.573  6.030  80.8  2.5050  1.0  273.0  21.0   \n",
       "\n",
       "         11    12   13  \n",
       "0    396.90  4.98  1.0  \n",
       "1    396.90  9.14  1.0  \n",
       "2    392.83  4.03  1.0  \n",
       "3    394.63  2.94  1.0  \n",
       "4    396.90  5.33  1.0  \n",
       "..      ...   ...  ...  \n",
       "501  391.99  9.67  1.0  \n",
       "502  396.90  9.08  1.0  \n",
       "503  396.90  5.64  1.0  \n",
       "504  393.45  6.48  1.0  \n",
       "505  396.90  7.88  1.0  \n",
       "\n",
       "[506 rows x 14 columns]"
      ]
     },
     "execution_count": 39,
     "metadata": {},
     "output_type": "execute_result"
    }
   ],
   "source": [
    "pd.DataFrame(get_matAugmented(Xb))"
   ]
  },
  {
   "cell_type": "code",
   "execution_count": 40,
   "metadata": {},
   "outputs": [],
   "source": [
    "# respectivement Xb et Xd augmentées\n",
    "Xb_plus = get_matAugmented(Xb)\n",
    "Xd_plus = get_matAugmented(Xd)\n"
   ]
  },
  {
   "cell_type": "markdown",
   "metadata": {},
   "source": [
    "Nous éstimons à présent les paramètres des moindres carrés sur les données. Stockez ces paramètres dans\n",
    "un vecteur w et un biais b"
   ]
  },
  {
   "cell_type": "code",
   "execution_count": 41,
   "metadata": {},
   "outputs": [],
   "source": [
    "def get_estimateParams(X_plus,y):\n",
    "    '''\n",
    "    Cette focntion : retourne les paramètres estimés, \n",
    "    dans l'ordre suivant W, biais\n",
    "    - X_plus ::: C'est la matrice augmentée, qui contient le biais\n",
    "    - alpha ::: np.inv(X.T @ X) @(X.T@y)\n",
    "    - nos paramètres W selon chaque features ::: alpha[:-1]\n",
    "    - le biais ::: alpha[-1]\n",
    "    remarque ::: on comprend est un vecteur de apramètres et,\n",
    "    que selon la matrice augmentée construite, le dernier paramètre est le biais\n",
    "    NB : Cette partie est inspirée d'un code présent sur internet.\n",
    "    '''\n",
    "    return (inv(X_plus.T @ X_plus) @(X_plus.T@y))[:-1], (inv(X_plus.T @ X_plus) @(X_plus.T@y))[-1]"
   ]
  },
  {
   "cell_type": "code",
   "execution_count": 42,
   "metadata": {},
   "outputs": [],
   "source": [
    "# W et B, respectivement, les apramètres du modèles (des features en particulier) et,  \n",
    "# du biais, pour boston et diabètes\n",
    "Wb, Bb = get_estimateParams(Xb_plus,yb)\n",
    "Wd, Bd = get_estimateParams(Xd_plus,yd)"
   ]
  },
  {
   "cell_type": "code",
   "execution_count": 43,
   "metadata": {},
   "outputs": [
    {
     "name": "stdout",
     "output_type": "stream",
     "text": [
      "***Pour boston*** \n",
      "\n",
      "le biais :  36.45948838506774\n",
      "\n",
      "les paramètres du modèles (des features) : \n",
      " [-1.08011358e-01  4.64204584e-02  2.05586264e-02  2.68673382e+00\n",
      " -1.77666112e+01  3.80986521e+00  6.92224640e-04 -1.47556685e+00\n",
      "  3.06049479e-01 -1.23345939e-02 -9.52747232e-01  9.31168327e-03\n",
      " -5.24758378e-01]\n",
      "\n",
      " ***Pour diabetes*** \n",
      "\n",
      "le biais : \n",
      " 152.13348416289648\n",
      "\n",
      "les paramètres du modèles (des features) : \n",
      " [ -10.01219782 -239.81908937  519.83978679  324.39042769 -792.18416163\n",
      "  476.74583782  101.04457032  177.06417623  751.27932109   67.62538639]\n"
     ]
    }
   ],
   "source": [
    "print(\"***Pour boston*** \\n\")\n",
    "print(\"le biais : \",Bb)\n",
    "print(\"\\nles paramètres du modèles (des features) : \\n\",Wb)\n",
    "print(\"\\n ***Pour diabetes*** \\n\")\n",
    "print(\"le biais : \\n\",Bd)\n",
    "print(\"\\nles paramètres du modèles (des features) : \\n\",Wd)"
   ]
  },
  {
   "cell_type": "markdown",
   "metadata": {},
   "source": [
    "Constat :\n",
    "\n",
    "Le biais du dataset Boston est plus fiable que celui des données du diabète.\n",
    "\n",
    "retenons juste que, le biais nous permet d'ajuster notre droite de regression."
   ]
  },
  {
   "cell_type": "markdown",
   "metadata": {},
   "source": []
  },
  {
   "cell_type": "markdown",
   "metadata": {},
   "source": [
    "On affiche le nuage de points (scatterplot) des valeurs réponses prédites et réelles, nous devons donc prédire des réponses avant d'effectuer cette comparaison."
   ]
  },
  {
   "cell_type": "code",
   "execution_count": 44,
   "metadata": {},
   "outputs": [],
   "source": [
    "def predict(X, W, B):\n",
    "    '''\n",
    "    Cette focntion ::: prédit des valeurs, pour des X inconnu au moment de l'apprentissage\n",
    "    X ::: X_test\n",
    "    W ::: Les paramètres\n",
    "    B ::: Biais\n",
    "    retour ::: Cette focntion renvoie donc y_pred = X@W + B\n",
    "    '''\n",
    "    return X@W + B"
   ]
  },
  {
   "cell_type": "code",
   "execution_count": 45,
   "metadata": {},
   "outputs": [],
   "source": [
    "# y_pred pour Boston et Diabete, respetivement\n",
    "yB_pred = predict(Xb, Wb, Bb)\n",
    "yD_pred = predict(Xd, Wd, Bd)"
   ]
  },
  {
   "cell_type": "code",
   "execution_count": 46,
   "metadata": {},
   "outputs": [],
   "source": [
    "def afficher_ScatterPlot(y,y_pred,dataset):\n",
    "    '''\n",
    "    Cette focntion : permet d'afficher le rapport en nuage de points\n",
    "    entre la réalité (y réels) et, la prédiciton (y prédits)\n",
    "    dataset ::: le nom du jeux affiché\n",
    "    '''\n",
    "    fig, ax = plt.subplots()\n",
    "    ax.scatter(y, y_pred, color='black')\n",
    "    ax.plot([y.min(), y.max()], [y.min(), y.max()], color='red')\n",
    "    ax.set_xlabel('Réalité')\n",
    "    ax.set_ylabel('Prediction')\n",
    "    ax.set_title(\"\"+dataset)\n",
    "    plt.show()"
   ]
  },
  {
   "cell_type": "code",
   "execution_count": 47,
   "metadata": {},
   "outputs": [
    {
     "data": {
      "image/png": "[encoded data removed]",
      "text/plain": [
       "<Figure size 432x288 with 1 Axes>"
      ]
     },
     "metadata": {
      "needs_background": "light"
     },
     "output_type": "display_data"
    }
   ],
   "source": [
    "afficher_ScatterPlot(yb,yB_pred,'dataset Boston')"
   ]
  },
  {
   "cell_type": "code",
   "execution_count": 48,
   "metadata": {},
   "outputs": [
    {
     "data": {
      "image/png": "[encoded data removed]",
      "text/plain": [
       "<Figure size 432x288 with 1 Axes>"
      ]
     },
     "metadata": {
      "needs_background": "light"
     },
     "output_type": "display_data"
    }
   ],
   "source": [
    "afficher_ScatterPlot(yd,yD_pred,'dataset Diabetes')"
   ]
  },
  {
   "cell_type": "markdown",
   "metadata": {},
   "source": [
    "### Constat :\n",
    "\n",
    "Nous osons donc dire que, nos modèles n'ont pas sur appris et, qu'ils ont plus au moins bien appris (boston en particulier qui a mieux appris) car la droite de regression passe plus au moins entre le centre de ces données, autrement, le fait qu'on approche une correlation presque parfaite, prouve que nous approchons de la réalité (dans les 2 cas)."
   ]
  },
  {
   "cell_type": "markdown",
   "metadata": {},
   "source": [
    "Maintenant que nous avons pu calculer et faire une évaluation \"qualitative\" de nos résultats au travers de ces représentations graphique, nous alons à présent calculez et affichez l’erreur quadratique moyenne ainsi que le coefficient de corrélation entre les valeurs prédites et réelles, dans le but de faire une évaluation \"quantitative\" au regard des valeurs quantitative que nous obtiendrons.\n",
    "\n",
    "Ces évaluations quantitatives, nous le faisons à l'aide de 2 outils d'évaluation de la qualité de nos données. nous observerons aussi dans la suite, graphiquement le sens ou l'orientation que prennent ces 2 mesures. "
   ]
  },
  {
   "cell_type": "code",
   "execution_count": 49,
   "metadata": {},
   "outputs": [],
   "source": [
    "def MSE(y, y_pred):\n",
    "    '''\n",
    "    Cette focntion de cout : renvoie l'erreur quadrtique moyenne,\n",
    "    On dit que les équations normales reposent sur la méthode des moindres carrées, \n",
    "    et que c’est plus rapide que le Gradient Descent (que nous utiliserons dans la regresison logistique).\n",
    "    elle se base sur la norme euclidienne, afin de mesurer les erreurs entre 𝒇(𝒙) et (𝒚).\n",
    "    Cela signifie que chaque prédiction est accompagnée d'une erreur, \n",
    "    mais ici on s'intérresse à la moyenne de toutes les prédictions\n",
    "\n",
    "    '''\n",
    "    return 1/len(y_pred)*np.sum((y - y_pred)**2)"
   ]
  },
  {
   "cell_type": "code",
   "execution_count": 50,
   "metadata": {},
   "outputs": [],
   "source": [
    "def r(y, y_pred):\n",
    "    '''\n",
    "    Cette fonction de cout : renvoie le coefficient \"r\" de corrélation,\n",
    "    qui va mesure le lien ou, la relation qui existe entre les prédictions et,\n",
    "    la réalités. On sera donc content si notre r sapproche de 1.\n",
    "    '''\n",
    "    return (1/len(y_pred)*sum((y - np.mean(y))* (y_pred - np.mean(y_pred))))/(y_pred.std()*y.std())"
   ]
  },
  {
   "cell_type": "code",
   "execution_count": 51,
   "metadata": {},
   "outputs": [],
   "source": [
    "# pour Boston\n",
    "mse_b = MSE(yb, yB_pred)\n",
    "r_b = r(yb, yB_pred)"
   ]
  },
  {
   "cell_type": "code",
   "execution_count": 52,
   "metadata": {},
   "outputs": [
    {
     "data": {
      "text/plain": [
       "21.894831181729206"
      ]
     },
     "execution_count": 52,
     "metadata": {},
     "output_type": "execute_result"
    }
   ],
   "source": [
    "mse_b"
   ]
  },
  {
   "cell_type": "code",
   "execution_count": 53,
   "metadata": {},
   "outputs": [
    {
     "data": {
      "text/plain": [
       "0.8606059865637755"
      ]
     },
     "execution_count": 53,
     "metadata": {},
     "output_type": "execute_result"
    }
   ],
   "source": [
    "r_b"
   ]
  },
  {
   "cell_type": "code",
   "execution_count": 54,
   "metadata": {},
   "outputs": [],
   "source": [
    "# pour Diabetes\n",
    "mse_d = MSE(yd, yD_pred)\n",
    "r_d = r(yd, yD_pred)"
   ]
  },
  {
   "cell_type": "code",
   "execution_count": 55,
   "metadata": {},
   "outputs": [
    {
     "data": {
      "text/plain": [
       "2859.6903987680657"
      ]
     },
     "execution_count": 55,
     "metadata": {},
     "output_type": "execute_result"
    }
   ],
   "source": [
    "mse_d"
   ]
  },
  {
   "cell_type": "code",
   "execution_count": 56,
   "metadata": {},
   "outputs": [
    {
     "data": {
      "text/plain": [
       "0.7195480702588907"
      ]
     },
     "execution_count": 56,
     "metadata": {},
     "output_type": "execute_result"
    }
   ],
   "source": [
    "r_d"
   ]
  },
  {
   "cell_type": "markdown",
   "metadata": {},
   "source": [
    "#### constat :\n",
    "\n",
    "Comme vu plus haut (analytiquement), le modèle prédictif Boston semble mieux approcher la rélité que, le modèle prédicitf Diabètes ainsi, nous sommes sans ignorer maintenant que, le mse dépent fortement de l'échelle des données de départ, cela explique aussi que pour comparer les 2 modèles, l'idéal serait d'observer le coefficient de correlation, qui fait une évaluation sur la base d'une même échelle : [-1,1]. \n",
    "Et donc, c'est au regard de cette mesure que nos pouvons dire que le coeff (r) boston étant supérieur à celui du diabètes, car se rapprochant de plus en plus de 1, prédit (décide) mieux."
   ]
  },
  {
   "cell_type": "markdown",
   "metadata": {},
   "source": [
    "## Partie 3 : Régression Ridge"
   ]
  },
  {
   "cell_type": "markdown",
   "metadata": {},
   "source": [
    "Dans cette partie, nous allons tester et comparer plusieurs modèles entre eux. Pour cela, il faut séparer les données en deux sous-ensembles : \n",
    "\n",
    "un pour l’apprentissage et l’autre pour le test des modèles, à l'aide de la fonction train_test_split de Scikit-learn. On utilisera alors un tier des données pour le test et le reste pour l’apprentissage."
   ]
  },
  {
   "cell_type": "code",
   "execution_count": 57,
   "metadata": {},
   "outputs": [],
   "source": [
    "from sklearn.model_selection import train_test_split"
   ]
  },
  {
   "cell_type": "code",
   "execution_count": 58,
   "metadata": {},
   "outputs": [],
   "source": [
    "Xd_train, Xd_test, yd_train, yd_test = train_test_split(Xd, yd, test_size=0.3, random_state=42)\n",
    "Xb_train, Xb_test, yb_train, yb_test = train_test_split(Xb, yb, test_size=0.3, random_state=42)"
   ]
  },
  {
   "cell_type": "markdown",
   "metadata": {},
   "source": [
    "Créez une fonction permettant de calculer la solution d’un problème de régression ridge en\n",
    "fonction de X, y et λ"
   ]
  },
  {
   "cell_type": "code",
   "execution_count": 59,
   "metadata": {},
   "outputs": [],
   "source": [
    "def reg_ridge(X,y,lambda_):\n",
    "    '''\n",
    "    Cette fonction : résout les problèmes n < d+1 et, quand X.T@X n'est pas inversible\n",
    "    elle retourne alors une valeur alpha tel que définit en cours (page 32), qui dépend d'un hyperparamètre lambda,\n",
    "    lambda_ ::: est un hyper paramètre de régularisation et,\n",
    "    S ::: est une matrice diagonale\n",
    "    lambda_ * S : est une matrice diagonale de lambda qu'on ajoute à X.T@X\n",
    "    '''\n",
    "    d = X.shape[1]\n",
    "    S = np.diag(np.ones(d))\n",
    "    S[d-1,d-1] = 0\n",
    "    return np.dot(inv(np.dot(X.T, X) + lambda_*S), np.dot(X.T,y))"
   ]
  },
  {
   "cell_type": "markdown",
   "metadata": {},
   "source": [
    "Pour un ensemble de valeurs possibles de λ, calculons la solution du problème et calculez l’erreur quadratique et le coefficient de corrélation sur l’ensemble d’apprentissage et de test. \n",
    "\n",
    "On pourra utilise les valeurs lambda = numpy.logspace(-4,2,20)"
   ]
  },
  {
   "cell_type": "code",
   "execution_count": 60,
   "metadata": {},
   "outputs": [
    {
     "data": {
      "text/plain": [
       "array([1.00000000e-04, 2.06913808e-04, 4.28133240e-04, 8.85866790e-04,\n",
       "       1.83298071e-03, 3.79269019e-03, 7.84759970e-03, 1.62377674e-02,\n",
       "       3.35981829e-02, 6.95192796e-02, 1.43844989e-01, 2.97635144e-01,\n",
       "       6.15848211e-01, 1.27427499e+00, 2.63665090e+00, 5.45559478e+00,\n",
       "       1.12883789e+01, 2.33572147e+01, 4.83293024e+01, 1.00000000e+02])"
      ]
     },
     "execution_count": 60,
     "metadata": {},
     "output_type": "execute_result"
    }
   ],
   "source": [
    "# ce vecteur d'hyper paramètre lambda est un vecteur de valeur logarithmique (base 10)\n",
    "# il contient 20 élements, pris entre -4 et 2\n",
    "# on obtient alors, un ensemble de puissnace de 10 allant de 10⁽-4⁾ à 10⁽2⁾\n",
    "lambda_vec = np.logspace(-4,2,20)\n",
    "lambda_vec"
   ]
  },
  {
   "cell_type": "code",
   "execution_count": 61,
   "metadata": {},
   "outputs": [],
   "source": [
    "def get_reg_ridge_pred(mse, lambda_vec, X_train, y_train, X_test, y_test):\n",
    "    '''\n",
    "    Cette focntion prédits à l'aide d'une regression ridge\n",
    "    '''\n",
    "    m = np.copy(mse)\n",
    "    for i,lambda_ in enumerate(lambda_vec):\n",
    "        y_pred = X_test@reg_ridge(X_train,y_train, lambda_)\n",
    "        m[i] = np.linalg.norm(y_test-y_pred)\n",
    "    return m, y_pred"
   ]
  },
  {
   "cell_type": "code",
   "execution_count": 62,
   "metadata": {},
   "outputs": [],
   "source": [
    "mse_init = np.zeros(len(lambda_vec))"
   ]
  },
  {
   "cell_type": "code",
   "execution_count": 63,
   "metadata": {},
   "outputs": [],
   "source": [
    "# Boston\n",
    "\n",
    "mseB_ridge, y_pred_B = get_reg_ridge_pred(mse_init, lambda_vec, Xb_train, yb_train, Xb_test, yb_test)"
   ]
  },
  {
   "cell_type": "code",
   "execution_count": 64,
   "metadata": {},
   "outputs": [],
   "source": [
    "# Diabetes\n",
    "\n",
    "mseD_ridge, y_pred_D = get_reg_ridge_pred(mse_init, lambda_vec, Xd_train, yd_train, Xd_test, yd_test)"
   ]
  },
  {
   "cell_type": "markdown",
   "metadata": {},
   "source": [
    "Affichez sur une figure l’erreur en test et en apprentissage en fonction de λ. Dans la mesure du\n",
    "possible, on choisira deux échelles différentes pour les deux erreurs"
   ]
  },
  {
   "cell_type": "code",
   "execution_count": 65,
   "metadata": {},
   "outputs": [],
   "source": [
    "def get_figError(lambda_vec, mse):\n",
    "    '''\n",
    "    Cette fonction affiche la courbe d'erreur d'apprentissage et de test pour l'erreur de mse\n",
    "    '''\n",
    "    fig, ax = plt.subplots()\n",
    "    ax.semilogx(lambda_vec,mse, color='red')\n",
    "    ax.set_xlabel('Lambda')\n",
    "    ax.set_ylabel('Erreur')\n",
    "    plt.show()"
   ]
  },
  {
   "cell_type": "code",
   "execution_count": 66,
   "metadata": {},
   "outputs": [
    {
     "data": {
      "image/png": "[encoded data removed]",
      "text/plain": [
       "<Figure size 432x288 with 1 Axes>"
      ]
     },
     "metadata": {
      "needs_background": "light"
     },
     "output_type": "display_data"
    }
   ],
   "source": [
    "get_figError(lambda_vec, mseB_ridge)"
   ]
  },
  {
   "cell_type": "code",
   "execution_count": 67,
   "metadata": {},
   "outputs": [
    {
     "data": {
      "image/png": "[encoded data removed]",
      "text/plain": [
       "<Figure size 432x288 with 1 Axes>"
      ]
     },
     "metadata": {
      "needs_background": "light"
     },
     "output_type": "display_data"
    }
   ],
   "source": [
    "get_figError(lambda_vec, mseD_ridge)"
   ]
  },
  {
   "cell_type": "markdown",
   "metadata": {},
   "source": [
    "## Partie 4 : Normalisation"
   ]
  },
  {
   "cell_type": "markdown",
   "metadata": {},
   "source": [
    "Il est souvent important lorsque l’on fait de la régression (et pas que) de normaliser les données pour\n",
    "faciliter l’apprentissage ou améliorer la qualité du modèle. Cela consiste souvent à uniformiser les\n",
    "valeurs prises par chaque variable explicative, par exemple pour faire en sorte que leurs moyennes\n",
    "soient 0 (on centre la variable) et leurs écarts-type soit 1 (on réduit la variable). Nous allons voir dans\n",
    "cet exercice quelques effets de ce type de pré-traitements."
   ]
  },
  {
   "cell_type": "code",
   "execution_count": 68,
   "metadata": {},
   "outputs": [],
   "source": [
    "def normaliser(X):\n",
    "    '''\n",
    "    Cette méthode centre les données, c'ets à dire qu'elle les retire la moyenne\n",
    "    '''\n",
    "    return X - np.mean(X, axis=0)"
   ]
  },
  {
   "cell_type": "markdown",
   "metadata": {},
   "source": [
    "A) Séparez les données en deux sous-ensembles apprentissage/test : \n",
    "\n",
    "On se base sur les mêmes données séparé en test_train_split afin de faire une bonne comparaison."
   ]
  },
  {
   "cell_type": "markdown",
   "metadata": {},
   "source": [
    "B) Centrez les données d’apprentissage et leurs réponses, en retranchant aux valeurs la moyenne\n",
    "de l’échantillon"
   ]
  },
  {
   "cell_type": "code",
   "execution_count": 69,
   "metadata": {},
   "outputs": [],
   "source": [
    "# Boston\n",
    "\n",
    "Xb_train_c = normaliser(Xb_train)\n",
    "yb_train_c = normaliser(yb_train)"
   ]
  },
  {
   "cell_type": "code",
   "execution_count": 70,
   "metadata": {},
   "outputs": [],
   "source": [
    "# Diabetes\n",
    "\n",
    "Xd_train_c = normaliser(Xd_train)\n",
    "yd_train_c = normaliser(yd_train)"
   ]
  },
  {
   "cell_type": "markdown",
   "metadata": {},
   "source": [
    "Calculez le modèle de regression ridge sur les données centrées"
   ]
  },
  {
   "cell_type": "code",
   "execution_count": 71,
   "metadata": {},
   "outputs": [],
   "source": [
    "# Boston\n",
    "\n",
    "mseB_ridge_c = get_reg_ridge_pred(mse_init, lambda_vec, Xb_train_c, yb_train_c, Xb_test, yb_test)"
   ]
  },
  {
   "cell_type": "code",
   "execution_count": 72,
   "metadata": {},
   "outputs": [],
   "source": [
    "# Diabetes\n",
    "\n",
    "mseD_ridge_c = get_reg_ridge_pred(mse_init, lambda_vec, Xd_train_c, yd_train_c, Xd_test, yd_test)"
   ]
  },
  {
   "cell_type": "markdown",
   "metadata": {},
   "source": [
    "### Affichez les valeurs"
   ]
  },
  {
   "cell_type": "markdown",
   "metadata": {},
   "source": [
    "◦ du biais du modèle appris sur les données non-centrées (exercice précédent)\n"
   ]
  },
  {
   "cell_type": "code",
   "execution_count": 73,
   "metadata": {},
   "outputs": [],
   "source": [
    "# respectivement Xb et Xd augmentées\n",
    "Xb_plus_2 = get_matAugmented(Xb_train)\n",
    "Xd_plus_2 = get_matAugmented(Xd_train)\n",
    "# W et B, respectivement, les apramètres du modèles (des features en particulier) et,  \n",
    "# du biais, pour boston et diabètes\n",
    "Wb_2, Bb_2 = get_estimateParams(Xb_plus_2,yb_train)\n",
    "Wd_2, Bd_2 = get_estimateParams(Xd_plus_2,yd_train)"
   ]
  },
  {
   "cell_type": "code",
   "execution_count": 74,
   "metadata": {},
   "outputs": [
    {
     "name": "stdout",
     "output_type": "stream",
     "text": [
      "Biais Boston :  31.63108403566912\n",
      "Biais Diabète :  151.00818273080338\n"
     ]
    }
   ],
   "source": [
    "# Boston\n",
    "print(\"Biais Boston : \", Bb_2)\n",
    "# Diabet\n",
    "print(\"Biais Diabète : \", Bd_2)"
   ]
  },
  {
   "cell_type": "markdown",
   "metadata": {},
   "source": [
    "◦ de la moyenne des réponses de l’ensemble d’apprentissage\n"
   ]
  },
  {
   "cell_type": "code",
   "execution_count": 75,
   "metadata": {},
   "outputs": [
    {
     "name": "stdout",
     "output_type": "stream",
     "text": [
      "moyenne des y_train Boston :  23.01581920903955\n",
      "moyenne des y_train Diabète :  153.90291262135923\n"
     ]
    }
   ],
   "source": [
    "# Boston\n",
    "print(\"moyenne des y_train Boston : \", np.mean(yb_train))\n",
    "# Diabet\n",
    "print(\"moyenne des y_train Diabète : \", np.mean(yd_train))"
   ]
  },
  {
   "cell_type": "markdown",
   "metadata": {},
   "source": [
    "◦ du biais du modèle appris sur les données centrées mais avec une réponse non-centrée\n"
   ]
  },
  {
   "cell_type": "code",
   "execution_count": 76,
   "metadata": {},
   "outputs": [],
   "source": [
    "# respectivement Xb et Xd augmentées\n",
    "Xb_plus_2_c = get_matAugmented(Xb_train_c)\n",
    "Xd_plus_2_c = get_matAugmented(Xd_train_c)\n",
    "# W et B, respectivement, les apramètres du modèles (des features en particulier) et,  \n",
    "# du biais, pour boston et diabètes\n",
    "Wb_2_c, Bb_2_Xc = get_estimateParams(Xb_plus_2_c,yb_train)\n",
    "Wd_2_c, Bd_2_Xc = get_estimateParams(Xd_plus_2_c,yd_train)"
   ]
  },
  {
   "cell_type": "markdown",
   "metadata": {},
   "source": [
    "◦ du biais du modèle appris sur les données centrées avec une réponse centrée"
   ]
  },
  {
   "cell_type": "code",
   "execution_count": 77,
   "metadata": {},
   "outputs": [
    {
     "name": "stdout",
     "output_type": "stream",
     "text": [
      "Biais Boston :  23.01581920903956\n",
      "Biais Diabète :  153.90291262135923\n"
     ]
    }
   ],
   "source": [
    "# Boston\n",
    "print(\"Biais Boston : \", Bb_2_Xc)\n",
    "# Diabet\n",
    "print(\"Biais Diabète : \", Bd_2_Xc)"
   ]
  },
  {
   "cell_type": "markdown",
   "metadata": {},
   "source": [
    ". Comparez maintenant les performances obtenus avec les deux modèles (sur les données centrées et non-centrées). Attention les données de test doivent être centrées avec la moyenne de\n",
    "l’ensemble d’apprentissage (car nous ne sommes pas sensé connaitre celle de l’ensemble de\n",
    "test).\n",
    "\n",
    ". Que constatez-vous ?"
   ]
  },
  {
   "cell_type": "code",
   "execution_count": 78,
   "metadata": {},
   "outputs": [],
   "source": [
    "# Boston\n",
    "\n",
    "Xb_test_c = Xb_test-np.mean(Xb_train, axis=0)\n",
    "yb_test_c = yb_test-np.mean(yb_train, axis=0)\n",
    "\n",
    "mseB_ridge_c, y_pred_b_c  = get_reg_ridge_pred(mse_init, lambda_vec, Xb_train_c, yb_train_c, Xb_test_c, yb_test_c)"
   ]
  },
  {
   "cell_type": "code",
   "execution_count": 79,
   "metadata": {},
   "outputs": [],
   "source": [
    "# Diabetes\n",
    "\n",
    "Xd_test_c = Xd_test-np.mean(Xd_train, axis=0)\n",
    "yd_test_c = yd_test-np.mean(yd_train, axis=0)\n",
    "\n",
    "mseD_ridge_c, y_pred_b_c = get_reg_ridge_pred(mse_init, lambda_vec, Xd_train_c, yd_train_c,  Xd_test_c, yd_test_c)"
   ]
  },
  {
   "cell_type": "code",
   "execution_count": 80,
   "metadata": {},
   "outputs": [
    {
     "data": {
      "image/png": "[encoded data removed]",
      "text/plain": [
       "<Figure size 432x288 with 1 Axes>"
      ]
     },
     "metadata": {
      "needs_background": "light"
     },
     "output_type": "display_data"
    }
   ],
   "source": [
    "get_figError(lambda_vec, mseB_ridge_c)"
   ]
  },
  {
   "cell_type": "code",
   "execution_count": 81,
   "metadata": {},
   "outputs": [
    {
     "data": {
      "image/png": "[encoded data removed]",
      "text/plain": [
       "<Figure size 432x288 with 1 Axes>"
      ]
     },
     "metadata": {
      "needs_background": "light"
     },
     "output_type": "display_data"
    }
   ],
   "source": [
    "get_figError(lambda_vec, mseD_ridge_c)"
   ]
  },
  {
   "cell_type": "markdown",
   "metadata": {},
   "source": [
    "Le cosntat est que les données centrées sont beaucoup plus lisses."
   ]
  },
  {
   "cell_type": "markdown",
   "metadata": {},
   "source": [
    ". Refaites cette comparaison avec des données centrées et réduites"
   ]
  },
  {
   "cell_type": "code",
   "execution_count": 82,
   "metadata": {},
   "outputs": [],
   "source": [
    "def standardiser(X):\n",
    "    '''\n",
    "    Cette méthode centre et réduit les données, \n",
    "    c'ets à dire qu'elle les retire la moyenne et les divise par m'écart type\n",
    "    '''\n",
    "    return (X - np.mean(X, axis=0))/np.std(X, axis=0)"
   ]
  },
  {
   "cell_type": "markdown",
   "metadata": {},
   "source": [
    "A) Séparez les données en deux sous-ensembles apprentissage/test : \n",
    "\n",
    "On se base sur les mêmes données séparé en test_train_split afin de faire une bonne comparaison."
   ]
  },
  {
   "cell_type": "markdown",
   "metadata": {},
   "source": [
    "B) Centrez les données d’apprentissage et leurs réponses, en retranchant aux valeurs la moyenne\n",
    "de l’échantillon"
   ]
  },
  {
   "cell_type": "code",
   "execution_count": 93,
   "metadata": {},
   "outputs": [],
   "source": [
    "# Boston\n",
    "\n",
    "Xb_train_cr = standardiser(Xb_train)\n",
    "yb_train_cr = standardiser(yb_train)"
   ]
  },
  {
   "cell_type": "code",
   "execution_count": 94,
   "metadata": {},
   "outputs": [],
   "source": [
    "# Diabetes\n",
    "\n",
    "Xd_train_cr = standardiser(Xd_train)\n",
    "yd_train_cr = standardiser(yd_train)"
   ]
  },
  {
   "cell_type": "markdown",
   "metadata": {},
   "source": [
    "Calculez le modèle de regression ridge sur les données centrées"
   ]
  },
  {
   "cell_type": "code",
   "execution_count": 95,
   "metadata": {},
   "outputs": [],
   "source": [
    "# Boston\n",
    "\n",
    "mseB_ridge_cr = get_reg_ridge_pred(mse_init, lambda_vec, Xb_train_cr, yb_train_cr, Xb_test, yb_test)"
   ]
  },
  {
   "cell_type": "code",
   "execution_count": 96,
   "metadata": {},
   "outputs": [],
   "source": [
    "# Diabetes\n",
    "\n",
    "mseD_ridge_cr = get_reg_ridge_pred(mse_init, lambda_vec, Xd_train_cr, yd_train_cr, Xd_test, yd_test)"
   ]
  },
  {
   "cell_type": "markdown",
   "metadata": {},
   "source": [
    "### Affichez les valeurs"
   ]
  },
  {
   "cell_type": "markdown",
   "metadata": {},
   "source": [
    "◦ du biais du modèle appris sur les données centrées mais avec une réponse non-centrée\n"
   ]
  },
  {
   "cell_type": "code",
   "execution_count": 97,
   "metadata": {},
   "outputs": [],
   "source": [
    "# respectivement Xb et Xd augmentées\n",
    "Xb_plus_2_cr = get_matAugmented(Xb_train_cr)\n",
    "Xd_plus_2_cr = get_matAugmented(Xd_train_cr)\n",
    "# W et B, respectivement, les apramètres du modèles (des features en particulier) et,  \n",
    "# du biais, pour boston et diabètes\n",
    "Wb_2_cr, Bb_2_Xcr = get_estimateParams(Xb_plus_2_cr,yb_train)\n",
    "Wd_2_cr, Bd_2_Xcr = get_estimateParams(Xd_plus_2_cr,yd_train)"
   ]
  },
  {
   "cell_type": "markdown",
   "metadata": {},
   "source": [
    "◦ du biais du modèle appris sur les données centrées avec une réponse centrée"
   ]
  },
  {
   "cell_type": "code",
   "execution_count": 98,
   "metadata": {},
   "outputs": [
    {
     "name": "stdout",
     "output_type": "stream",
     "text": [
      "Biais Boston :  23.01581920903956\n",
      "Biais Diabète :  153.90291262135923\n"
     ]
    }
   ],
   "source": [
    "# Boston\n",
    "print(\"Biais Boston : \", Bb_2_Xcr)\n",
    "# Diabet\n",
    "print(\"Biais Diabète : \", Bd_2_Xcr)"
   ]
  },
  {
   "cell_type": "markdown",
   "metadata": {},
   "source": [
    ". Comparez maintenant les performances obtenus avec les deux modèles (sur les données centrées et non-centrées). Attention les données de test doivent être centrées avec la moyenne de\n",
    "l’ensemble d’apprentissage (car nous ne sommes pas sensé connaitre celle de l’ensemble de\n",
    "test).\n",
    "\n",
    ". Que constatez-vous ?"
   ]
  },
  {
   "cell_type": "code",
   "execution_count": 99,
   "metadata": {},
   "outputs": [],
   "source": [
    "# Boston\n",
    "\n",
    "Xb_test_cr = Xb_test-np.mean(Xb_train, axis=0)\n",
    "yb_test_cr = yb_test-np.mean(yb_train, axis=0)\n",
    "\n",
    "mseB_ridge_cr, y_pred_b_cr  = get_reg_ridge_pred(mse_init, lambda_vec, Xb_train_cr, yb_train_cr, Xb_test_cr, yb_test_cr)"
   ]
  },
  {
   "cell_type": "code",
   "execution_count": 100,
   "metadata": {},
   "outputs": [],
   "source": [
    "# Diabetes\n",
    "\n",
    "Xd_test_cr = Xd_test-np.mean(Xd_train, axis=0)\n",
    "yd_test_cr = yd_test-np.mean(yd_train, axis=0)\n",
    "\n",
    "mseD_ridge_cr, y_pred_b_cr = get_reg_ridge_pred(mse_init, lambda_vec, Xd_train_cr, yd_train_cr,  Xd_test_cr, yd_test_cr)"
   ]
  },
  {
   "cell_type": "code",
   "execution_count": 101,
   "metadata": {},
   "outputs": [
    {
     "data": {
      "image/png": "[encoded data removed]",
      "text/plain": [
       "<Figure size 432x288 with 1 Axes>"
      ]
     },
     "metadata": {
      "needs_background": "light"
     },
     "output_type": "display_data"
    }
   ],
   "source": [
    "get_figError(lambda_vec, mseB_ridge_cr)"
   ]
  },
  {
   "cell_type": "code",
   "execution_count": 102,
   "metadata": {},
   "outputs": [
    {
     "data": {
      "image/png": "[encoded data removed]",
      "text/plain": [
       "<Figure size 432x288 with 1 Axes>"
      ]
     },
     "metadata": {
      "needs_background": "light"
     },
     "output_type": "display_data"
    }
   ],
   "source": [
    "get_figError(lambda_vec, mseD_ridge_cr)"
   ]
  },
  {
   "cell_type": "markdown",
   "metadata": {},
   "source": [
    "Les données centrées et réduites sont non seulement lissées, masi ont aussi modié l'échelle de nos données."
   ]
  },
  {
   "cell_type": "markdown",
   "metadata": {},
   "source": []
  }
 ],
 "metadata": {
  "interpreter": {
   "hash": "6f415e978cbbcfe4ee76e0f0ae60463270fd6aaaf7ce8526631058b94c49e7ac"
  },
  "kernelspec": {
   "display_name": "Python 3.9.7 ('base')",
   "language": "python",
   "name": "python3"
  },
  "language_info": {
   "codemirror_mode": {
    "name": "ipython",
    "version": 3
   },
   "file_extension": ".py",
   "mimetype": "text/x-python",
   "name": "python",
   "nbconvert_exporter": "python",
   "pygments_lexer": "ipython3",
   "version": "3.9.7"
  },
  "orig_nbformat": 4
 },
 "nbformat": 4,
 "nbformat_minor": 2
}
